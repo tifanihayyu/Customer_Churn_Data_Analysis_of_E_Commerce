{
  "cells": [
    {
      "cell_type": "markdown",
      "source": [
        "**Customer Churn Data Analysis of E-Commerce**\n",
        "\n",
        "By:\n",
        "\n",
        "Altifani Rizky Hayyu: Data pre-processing, insight, making ppt\n",
        "\n",
        "Mohammad Abyannaufal Aditya Kusuma: EDA, insight, and visualization, making ppt\n",
        "\n",
        "Raden Bagus Muhammad AdryanPutra Adhy Wijaya: Machine learning modeling and evaluation, making ppt\n",
        "\n"
      ],
      "metadata": {
        "id": "uc8-n4yM14qv"
      },
      "id": "uc8-n4yM14qv"
    },
    {
      "cell_type": "markdown",
      "source": [
        "Dataset has been taken from: https://www.kaggle.com/datasets/ankitverma2010/ecommerce-customer-churn-analysis-and-prediction"
      ],
      "metadata": {
        "id": "AIVPxSwW4xhg"
      },
      "id": "AIVPxSwW4xhg"
    },
    {
      "cell_type": "markdown",
      "id": "134fd59e",
      "metadata": {
        "id": "134fd59e"
      },
      "source": [
        "# Libraries"
      ]
    },
    {
      "cell_type": "code",
      "execution_count": null,
      "id": "dc481228",
      "metadata": {
        "id": "dc481228"
      },
      "outputs": [],
      "source": [
        "import pandas as pd\n",
        "import seaborn as sns\n",
        "import matplotlib.pyplot as plt\n",
        "import numpy as np\n",
        "from scipy import stats\n",
        "from sklearn.preprocessing import MinMaxScaler, StandardScaler\n",
        "import warnings\n",
        "warnings.filterwarnings(\"ignore\")"
      ]
    },
    {
      "cell_type": "markdown",
      "id": "a8c76811",
      "metadata": {
        "id": "a8c76811"
      },
      "source": [
        "# Data Acquisition and Understanding"
      ]
    },
    {
      "cell_type": "code",
      "execution_count": null,
      "id": "281852a0",
      "metadata": {
        "id": "281852a0",
        "outputId": "7ec5c7a7-bde8-46c5-8ee6-b2d63e5efd95"
      },
      "outputs": [
        {
          "name": "stdout",
          "output_type": "stream",
          "text": [
            "<class 'pandas.core.frame.DataFrame'>\n",
            "RangeIndex: 5630 entries, 0 to 5629\n",
            "Data columns (total 20 columns):\n",
            " #   Column                       Non-Null Count  Dtype  \n",
            "---  ------                       --------------  -----  \n",
            " 0   CustomerID                   5630 non-null   int64  \n",
            " 1   Churn                        5630 non-null   int64  \n",
            " 2   Tenure                       5366 non-null   float64\n",
            " 3   PreferredLoginDevice         5630 non-null   object \n",
            " 4   CityTier                     5630 non-null   int64  \n",
            " 5   WarehouseToHome              5379 non-null   float64\n",
            " 6   PreferredPaymentMode         5630 non-null   object \n",
            " 7   Gender                       5630 non-null   object \n",
            " 8   HourSpendOnApp               5375 non-null   float64\n",
            " 9   NumberOfDeviceRegistered     5630 non-null   int64  \n",
            " 10  PreferedOrderCat             5630 non-null   object \n",
            " 11  SatisfactionScore            5630 non-null   int64  \n",
            " 12  MaritalStatus                5630 non-null   object \n",
            " 13  NumberOfAddress              5630 non-null   int64  \n",
            " 14  Complain                     5630 non-null   int64  \n",
            " 15  OrderAmountHikeFromlastYear  5365 non-null   float64\n",
            " 16  CouponUsed                   5374 non-null   float64\n",
            " 17  OrderCount                   5372 non-null   float64\n",
            " 18  DaySinceLastOrder            5323 non-null   float64\n",
            " 19  CashbackAmount               5630 non-null   float64\n",
            "dtypes: float64(8), int64(7), object(5)\n",
            "memory usage: 879.8+ KB\n"
          ]
        }
      ],
      "source": [
        "df = pd.read_excel(\"E Commerce Dataset.xlsx\", sheet_name='E Comm')\n",
        "df.info()"
      ]
    },
    {
      "cell_type": "code",
      "execution_count": null,
      "id": "f59def3f",
      "metadata": {
        "id": "f59def3f",
        "outputId": "51ef9d1b-169b-45ef-a1b5-92a404b78149"
      },
      "outputs": [
        {
          "data": {
            "text/plain": [
              "(5630, 20)"
            ]
          },
          "execution_count": 558,
          "metadata": {},
          "output_type": "execute_result"
        }
      ],
      "source": [
        "df.shape"
      ]
    },
    {
      "cell_type": "markdown",
      "id": "39577952",
      "metadata": {
        "id": "39577952"
      },
      "source": [
        "From data.info() we get the information that:\n",
        "* Dataframe has 5630 rows and 20 variables/columns\n",
        "* Dataframe still has NaN in some of its variables/columns\n",
        "* The classification target is the \"churn\" variable with type \"int64\" and the rest are features"
      ]
    },
    {
      "cell_type": "code",
      "execution_count": null,
      "id": "38c34dfc",
      "metadata": {
        "id": "38c34dfc",
        "outputId": "938dc897-1a3b-46cc-cb8a-5c7391f0f5a9"
      },
      "outputs": [
        {
          "data": {
            "text/plain": [
              "Index(['CustomerID', 'Churn', 'Tenure', 'PreferredLoginDevice', 'CityTier',\n",
              "       'WarehouseToHome', 'PreferredPaymentMode', 'Gender', 'HourSpendOnApp',\n",
              "       'NumberOfDeviceRegistered', 'PreferedOrderCat', 'SatisfactionScore',\n",
              "       'MaritalStatus', 'NumberOfAddress', 'Complain',\n",
              "       'OrderAmountHikeFromlastYear', 'CouponUsed', 'OrderCount',\n",
              "       'DaySinceLastOrder', 'CashbackAmount'],\n",
              "      dtype='object')"
            ]
          },
          "execution_count": 559,
          "metadata": {},
          "output_type": "execute_result"
        }
      ],
      "source": [
        "df.columns"
      ]
    },
    {
      "cell_type": "markdown",
      "id": "5c936a46",
      "metadata": {
        "id": "5c936a46"
      },
      "source": [
        "From this information, features that are categorized as categorical and numeric can be separated"
      ]
    },
    {
      "cell_type": "code",
      "execution_count": null,
      "id": "84a54c02",
      "metadata": {
        "id": "84a54c02"
      },
      "outputs": [],
      "source": [
        "cats = [\"PreferredLoginDevice\",\"PreferredPaymentMode\",\"Gender\",\"PreferedOrderCat\",\"MaritalStatus\"]\n",
        "nums = ['Tenure', 'CityTier', 'WarehouseToHome', 'HourSpendOnApp', \n",
        "        'NumberOfDeviceRegistered', 'SatisfactionScore', \n",
        "        'NumberOfAddress','Complain',\n",
        "       'OrderAmountHikeFromlastYear', 'CouponUsed', 'OrderCount',\n",
        "       'DaySinceLastOrder', 'CashbackAmount']\n",
        "target = [\"Churn\"]"
      ]
    },
    {
      "cell_type": "code",
      "execution_count": null,
      "id": "4446df6b",
      "metadata": {
        "id": "4446df6b",
        "outputId": "f63024af-3ca6-40e9-f949-f13b4028adab"
      },
      "outputs": [
        {
          "data": {
            "text/html": [
              "<div>\n",
              "<style scoped>\n",
              "    .dataframe tbody tr th:only-of-type {\n",
              "        vertical-align: middle;\n",
              "    }\n",
              "\n",
              "    .dataframe tbody tr th {\n",
              "        vertical-align: top;\n",
              "    }\n",
              "\n",
              "    .dataframe thead th {\n",
              "        text-align: right;\n",
              "    }\n",
              "</style>\n",
              "<table border=\"1\" class=\"dataframe\">\n",
              "  <thead>\n",
              "    <tr style=\"text-align: right;\">\n",
              "      <th></th>\n",
              "      <th>CustomerID</th>\n",
              "      <th>Churn</th>\n",
              "      <th>Tenure</th>\n",
              "      <th>PreferredLoginDevice</th>\n",
              "      <th>CityTier</th>\n",
              "      <th>WarehouseToHome</th>\n",
              "      <th>PreferredPaymentMode</th>\n",
              "      <th>Gender</th>\n",
              "      <th>HourSpendOnApp</th>\n",
              "      <th>NumberOfDeviceRegistered</th>\n",
              "      <th>PreferedOrderCat</th>\n",
              "      <th>SatisfactionScore</th>\n",
              "      <th>MaritalStatus</th>\n",
              "      <th>NumberOfAddress</th>\n",
              "      <th>Complain</th>\n",
              "      <th>OrderAmountHikeFromlastYear</th>\n",
              "      <th>CouponUsed</th>\n",
              "      <th>OrderCount</th>\n",
              "      <th>DaySinceLastOrder</th>\n",
              "      <th>CashbackAmount</th>\n",
              "    </tr>\n",
              "  </thead>\n",
              "  <tbody>\n",
              "    <tr>\n",
              "      <th>2392</th>\n",
              "      <td>52393</td>\n",
              "      <td>0</td>\n",
              "      <td>6.0</td>\n",
              "      <td>Computer</td>\n",
              "      <td>3</td>\n",
              "      <td>13.0</td>\n",
              "      <td>Credit Card</td>\n",
              "      <td>Male</td>\n",
              "      <td>2.0</td>\n",
              "      <td>3</td>\n",
              "      <td>Laptop &amp; Accessory</td>\n",
              "      <td>5</td>\n",
              "      <td>Married</td>\n",
              "      <td>1</td>\n",
              "      <td>0</td>\n",
              "      <td>14.0</td>\n",
              "      <td>1.0</td>\n",
              "      <td>1.0</td>\n",
              "      <td>3.0</td>\n",
              "      <td>143.73</td>\n",
              "    </tr>\n",
              "    <tr>\n",
              "      <th>5493</th>\n",
              "      <td>55494</td>\n",
              "      <td>1</td>\n",
              "      <td>10.0</td>\n",
              "      <td>Mobile Phone</td>\n",
              "      <td>3</td>\n",
              "      <td>17.0</td>\n",
              "      <td>Debit Card</td>\n",
              "      <td>Female</td>\n",
              "      <td>4.0</td>\n",
              "      <td>4</td>\n",
              "      <td>Fashion</td>\n",
              "      <td>4</td>\n",
              "      <td>Married</td>\n",
              "      <td>7</td>\n",
              "      <td>0</td>\n",
              "      <td>22.0</td>\n",
              "      <td>2.0</td>\n",
              "      <td>2.0</td>\n",
              "      <td>8.0</td>\n",
              "      <td>198.14</td>\n",
              "    </tr>\n",
              "    <tr>\n",
              "      <th>1446</th>\n",
              "      <td>51447</td>\n",
              "      <td>0</td>\n",
              "      <td>5.0</td>\n",
              "      <td>Phone</td>\n",
              "      <td>1</td>\n",
              "      <td>6.0</td>\n",
              "      <td>Debit Card</td>\n",
              "      <td>Male</td>\n",
              "      <td>NaN</td>\n",
              "      <td>3</td>\n",
              "      <td>Mobile</td>\n",
              "      <td>5</td>\n",
              "      <td>Single</td>\n",
              "      <td>2</td>\n",
              "      <td>0</td>\n",
              "      <td>13.0</td>\n",
              "      <td>0.0</td>\n",
              "      <td>1.0</td>\n",
              "      <td>0.0</td>\n",
              "      <td>129.56</td>\n",
              "    </tr>\n",
              "    <tr>\n",
              "      <th>5105</th>\n",
              "      <td>55106</td>\n",
              "      <td>0</td>\n",
              "      <td>24.0</td>\n",
              "      <td>Mobile Phone</td>\n",
              "      <td>1</td>\n",
              "      <td>35.0</td>\n",
              "      <td>Debit Card</td>\n",
              "      <td>Female</td>\n",
              "      <td>3.0</td>\n",
              "      <td>4</td>\n",
              "      <td>Grocery</td>\n",
              "      <td>5</td>\n",
              "      <td>Married</td>\n",
              "      <td>6</td>\n",
              "      <td>1</td>\n",
              "      <td>NaN</td>\n",
              "      <td>1.0</td>\n",
              "      <td>2.0</td>\n",
              "      <td>3.0</td>\n",
              "      <td>293.80</td>\n",
              "    </tr>\n",
              "    <tr>\n",
              "      <th>3202</th>\n",
              "      <td>53203</td>\n",
              "      <td>0</td>\n",
              "      <td>1.0</td>\n",
              "      <td>Phone</td>\n",
              "      <td>1</td>\n",
              "      <td>10.0</td>\n",
              "      <td>Credit Card</td>\n",
              "      <td>Male</td>\n",
              "      <td>3.0</td>\n",
              "      <td>5</td>\n",
              "      <td>Mobile Phone</td>\n",
              "      <td>2</td>\n",
              "      <td>Single</td>\n",
              "      <td>2</td>\n",
              "      <td>0</td>\n",
              "      <td>14.0</td>\n",
              "      <td>1.0</td>\n",
              "      <td>2.0</td>\n",
              "      <td>2.0</td>\n",
              "      <td>145.45</td>\n",
              "    </tr>\n",
              "    <tr>\n",
              "      <th>1224</th>\n",
              "      <td>51225</td>\n",
              "      <td>0</td>\n",
              "      <td>0.0</td>\n",
              "      <td>Phone</td>\n",
              "      <td>1</td>\n",
              "      <td>6.0</td>\n",
              "      <td>Debit Card</td>\n",
              "      <td>Female</td>\n",
              "      <td>NaN</td>\n",
              "      <td>4</td>\n",
              "      <td>Mobile</td>\n",
              "      <td>3</td>\n",
              "      <td>Married</td>\n",
              "      <td>2</td>\n",
              "      <td>1</td>\n",
              "      <td>13.0</td>\n",
              "      <td>0.0</td>\n",
              "      <td>1.0</td>\n",
              "      <td>0.0</td>\n",
              "      <td>129.33</td>\n",
              "    </tr>\n",
              "    <tr>\n",
              "      <th>3126</th>\n",
              "      <td>53127</td>\n",
              "      <td>1</td>\n",
              "      <td>1.0</td>\n",
              "      <td>Mobile Phone</td>\n",
              "      <td>1</td>\n",
              "      <td>17.0</td>\n",
              "      <td>Credit Card</td>\n",
              "      <td>Male</td>\n",
              "      <td>3.0</td>\n",
              "      <td>6</td>\n",
              "      <td>Mobile Phone</td>\n",
              "      <td>2</td>\n",
              "      <td>Married</td>\n",
              "      <td>9</td>\n",
              "      <td>0</td>\n",
              "      <td>14.0</td>\n",
              "      <td>1.0</td>\n",
              "      <td>2.0</td>\n",
              "      <td>4.0</td>\n",
              "      <td>159.08</td>\n",
              "    </tr>\n",
              "    <tr>\n",
              "      <th>5599</th>\n",
              "      <td>55600</td>\n",
              "      <td>0</td>\n",
              "      <td>10.0</td>\n",
              "      <td>Mobile Phone</td>\n",
              "      <td>3</td>\n",
              "      <td>10.0</td>\n",
              "      <td>Credit Card</td>\n",
              "      <td>Female</td>\n",
              "      <td>4.0</td>\n",
              "      <td>5</td>\n",
              "      <td>Fashion</td>\n",
              "      <td>1</td>\n",
              "      <td>Married</td>\n",
              "      <td>2</td>\n",
              "      <td>0</td>\n",
              "      <td>20.0</td>\n",
              "      <td>1.0</td>\n",
              "      <td>4.0</td>\n",
              "      <td>5.0</td>\n",
              "      <td>201.44</td>\n",
              "    </tr>\n",
              "    <tr>\n",
              "      <th>4096</th>\n",
              "      <td>54097</td>\n",
              "      <td>0</td>\n",
              "      <td>28.0</td>\n",
              "      <td>Mobile Phone</td>\n",
              "      <td>1</td>\n",
              "      <td>17.0</td>\n",
              "      <td>Credit Card</td>\n",
              "      <td>Female</td>\n",
              "      <td>4.0</td>\n",
              "      <td>4</td>\n",
              "      <td>Laptop &amp; Accessory</td>\n",
              "      <td>5</td>\n",
              "      <td>Single</td>\n",
              "      <td>8</td>\n",
              "      <td>1</td>\n",
              "      <td>20.0</td>\n",
              "      <td>1.0</td>\n",
              "      <td>2.0</td>\n",
              "      <td>5.0</td>\n",
              "      <td>169.40</td>\n",
              "    </tr>\n",
              "    <tr>\n",
              "      <th>479</th>\n",
              "      <td>50480</td>\n",
              "      <td>0</td>\n",
              "      <td>15.0</td>\n",
              "      <td>Phone</td>\n",
              "      <td>1</td>\n",
              "      <td>35.0</td>\n",
              "      <td>Debit Card</td>\n",
              "      <td>Male</td>\n",
              "      <td>3.0</td>\n",
              "      <td>3</td>\n",
              "      <td>Laptop &amp; Accessory</td>\n",
              "      <td>4</td>\n",
              "      <td>Divorced</td>\n",
              "      <td>2</td>\n",
              "      <td>0</td>\n",
              "      <td>13.0</td>\n",
              "      <td>2.0</td>\n",
              "      <td>7.0</td>\n",
              "      <td>8.0</td>\n",
              "      <td>144.34</td>\n",
              "    </tr>\n",
              "  </tbody>\n",
              "</table>\n",
              "</div>"
            ],
            "text/plain": [
              "      CustomerID  Churn  Tenure PreferredLoginDevice  CityTier  \\\n",
              "2392       52393      0     6.0             Computer         3   \n",
              "5493       55494      1    10.0         Mobile Phone         3   \n",
              "1446       51447      0     5.0                Phone         1   \n",
              "5105       55106      0    24.0         Mobile Phone         1   \n",
              "3202       53203      0     1.0                Phone         1   \n",
              "1224       51225      0     0.0                Phone         1   \n",
              "3126       53127      1     1.0         Mobile Phone         1   \n",
              "5599       55600      0    10.0         Mobile Phone         3   \n",
              "4096       54097      0    28.0         Mobile Phone         1   \n",
              "479        50480      0    15.0                Phone         1   \n",
              "\n",
              "      WarehouseToHome PreferredPaymentMode  Gender  HourSpendOnApp  \\\n",
              "2392             13.0          Credit Card    Male             2.0   \n",
              "5493             17.0           Debit Card  Female             4.0   \n",
              "1446              6.0           Debit Card    Male             NaN   \n",
              "5105             35.0           Debit Card  Female             3.0   \n",
              "3202             10.0          Credit Card    Male             3.0   \n",
              "1224              6.0           Debit Card  Female             NaN   \n",
              "3126             17.0          Credit Card    Male             3.0   \n",
              "5599             10.0          Credit Card  Female             4.0   \n",
              "4096             17.0          Credit Card  Female             4.0   \n",
              "479              35.0           Debit Card    Male             3.0   \n",
              "\n",
              "      NumberOfDeviceRegistered    PreferedOrderCat  SatisfactionScore  \\\n",
              "2392                         3  Laptop & Accessory                  5   \n",
              "5493                         4             Fashion                  4   \n",
              "1446                         3              Mobile                  5   \n",
              "5105                         4             Grocery                  5   \n",
              "3202                         5        Mobile Phone                  2   \n",
              "1224                         4              Mobile                  3   \n",
              "3126                         6        Mobile Phone                  2   \n",
              "5599                         5             Fashion                  1   \n",
              "4096                         4  Laptop & Accessory                  5   \n",
              "479                          3  Laptop & Accessory                  4   \n",
              "\n",
              "     MaritalStatus  NumberOfAddress  Complain  OrderAmountHikeFromlastYear  \\\n",
              "2392       Married                1         0                         14.0   \n",
              "5493       Married                7         0                         22.0   \n",
              "1446        Single                2         0                         13.0   \n",
              "5105       Married                6         1                          NaN   \n",
              "3202        Single                2         0                         14.0   \n",
              "1224       Married                2         1                         13.0   \n",
              "3126       Married                9         0                         14.0   \n",
              "5599       Married                2         0                         20.0   \n",
              "4096        Single                8         1                         20.0   \n",
              "479       Divorced                2         0                         13.0   \n",
              "\n",
              "      CouponUsed  OrderCount  DaySinceLastOrder  CashbackAmount  \n",
              "2392         1.0         1.0                3.0          143.73  \n",
              "5493         2.0         2.0                8.0          198.14  \n",
              "1446         0.0         1.0                0.0          129.56  \n",
              "5105         1.0         2.0                3.0          293.80  \n",
              "3202         1.0         2.0                2.0          145.45  \n",
              "1224         0.0         1.0                0.0          129.33  \n",
              "3126         1.0         2.0                4.0          159.08  \n",
              "5599         1.0         4.0                5.0          201.44  \n",
              "4096         1.0         2.0                5.0          169.40  \n",
              "479          2.0         7.0                8.0          144.34  "
            ]
          },
          "execution_count": 561,
          "metadata": {},
          "output_type": "execute_result"
        }
      ],
      "source": [
        "# Doing sampling to understand the data\n",
        "df.sample(10)"
      ]
    },
    {
      "cell_type": "markdown",
      "id": "27f10764",
      "metadata": {
        "id": "27f10764"
      },
      "source": [
        "It can be observed that the target variable \"churn\" has a range of 0 or 1, where 1 is a customer who is proven to have churn"
      ]
    },
    {
      "cell_type": "markdown",
      "id": "9888fbc6",
      "metadata": {
        "id": "9888fbc6"
      },
      "source": [
        "# Descriptive statistics\n",
        "## Univariate analysis"
      ]
    },
    {
      "cell_type": "code",
      "execution_count": null,
      "id": "43780414",
      "metadata": {
        "id": "43780414",
        "outputId": "d020e392-332a-4ce2-f5c9-1831bcd5872f"
      },
      "outputs": [
        {
          "data": {
            "text/html": [
              "<div>\n",
              "<style scoped>\n",
              "    .dataframe tbody tr th:only-of-type {\n",
              "        vertical-align: middle;\n",
              "    }\n",
              "\n",
              "    .dataframe tbody tr th {\n",
              "        vertical-align: top;\n",
              "    }\n",
              "\n",
              "    .dataframe thead th {\n",
              "        text-align: right;\n",
              "    }\n",
              "</style>\n",
              "<table border=\"1\" class=\"dataframe\">\n",
              "  <thead>\n",
              "    <tr style=\"text-align: right;\">\n",
              "      <th></th>\n",
              "      <th>Tenure</th>\n",
              "      <th>CityTier</th>\n",
              "      <th>WarehouseToHome</th>\n",
              "      <th>HourSpendOnApp</th>\n",
              "      <th>NumberOfDeviceRegistered</th>\n",
              "      <th>SatisfactionScore</th>\n",
              "      <th>NumberOfAddress</th>\n",
              "      <th>Complain</th>\n",
              "      <th>OrderAmountHikeFromlastYear</th>\n",
              "      <th>CouponUsed</th>\n",
              "      <th>OrderCount</th>\n",
              "      <th>DaySinceLastOrder</th>\n",
              "      <th>CashbackAmount</th>\n",
              "    </tr>\n",
              "  </thead>\n",
              "  <tbody>\n",
              "    <tr>\n",
              "      <th>count</th>\n",
              "      <td>5366.000000</td>\n",
              "      <td>5630.000000</td>\n",
              "      <td>5379.000000</td>\n",
              "      <td>5375.000000</td>\n",
              "      <td>5630.000000</td>\n",
              "      <td>5630.000000</td>\n",
              "      <td>5630.000000</td>\n",
              "      <td>5630.000000</td>\n",
              "      <td>5365.000000</td>\n",
              "      <td>5374.000000</td>\n",
              "      <td>5372.000000</td>\n",
              "      <td>5323.000000</td>\n",
              "      <td>5630.000000</td>\n",
              "    </tr>\n",
              "    <tr>\n",
              "      <th>mean</th>\n",
              "      <td>10.189899</td>\n",
              "      <td>1.654707</td>\n",
              "      <td>15.639896</td>\n",
              "      <td>2.931535</td>\n",
              "      <td>3.688988</td>\n",
              "      <td>3.066785</td>\n",
              "      <td>4.214032</td>\n",
              "      <td>0.284902</td>\n",
              "      <td>15.707922</td>\n",
              "      <td>1.751023</td>\n",
              "      <td>3.008004</td>\n",
              "      <td>4.543491</td>\n",
              "      <td>177.223030</td>\n",
              "    </tr>\n",
              "    <tr>\n",
              "      <th>std</th>\n",
              "      <td>8.557241</td>\n",
              "      <td>0.915389</td>\n",
              "      <td>8.531475</td>\n",
              "      <td>0.721926</td>\n",
              "      <td>1.023999</td>\n",
              "      <td>1.380194</td>\n",
              "      <td>2.583586</td>\n",
              "      <td>0.451408</td>\n",
              "      <td>3.675485</td>\n",
              "      <td>1.894621</td>\n",
              "      <td>2.939680</td>\n",
              "      <td>3.654433</td>\n",
              "      <td>49.207036</td>\n",
              "    </tr>\n",
              "    <tr>\n",
              "      <th>min</th>\n",
              "      <td>0.000000</td>\n",
              "      <td>1.000000</td>\n",
              "      <td>5.000000</td>\n",
              "      <td>0.000000</td>\n",
              "      <td>1.000000</td>\n",
              "      <td>1.000000</td>\n",
              "      <td>1.000000</td>\n",
              "      <td>0.000000</td>\n",
              "      <td>11.000000</td>\n",
              "      <td>0.000000</td>\n",
              "      <td>1.000000</td>\n",
              "      <td>0.000000</td>\n",
              "      <td>0.000000</td>\n",
              "    </tr>\n",
              "    <tr>\n",
              "      <th>25%</th>\n",
              "      <td>2.000000</td>\n",
              "      <td>1.000000</td>\n",
              "      <td>9.000000</td>\n",
              "      <td>2.000000</td>\n",
              "      <td>3.000000</td>\n",
              "      <td>2.000000</td>\n",
              "      <td>2.000000</td>\n",
              "      <td>0.000000</td>\n",
              "      <td>13.000000</td>\n",
              "      <td>1.000000</td>\n",
              "      <td>1.000000</td>\n",
              "      <td>2.000000</td>\n",
              "      <td>145.770000</td>\n",
              "    </tr>\n",
              "    <tr>\n",
              "      <th>50%</th>\n",
              "      <td>9.000000</td>\n",
              "      <td>1.000000</td>\n",
              "      <td>14.000000</td>\n",
              "      <td>3.000000</td>\n",
              "      <td>4.000000</td>\n",
              "      <td>3.000000</td>\n",
              "      <td>3.000000</td>\n",
              "      <td>0.000000</td>\n",
              "      <td>15.000000</td>\n",
              "      <td>1.000000</td>\n",
              "      <td>2.000000</td>\n",
              "      <td>3.000000</td>\n",
              "      <td>163.280000</td>\n",
              "    </tr>\n",
              "    <tr>\n",
              "      <th>75%</th>\n",
              "      <td>16.000000</td>\n",
              "      <td>3.000000</td>\n",
              "      <td>20.000000</td>\n",
              "      <td>3.000000</td>\n",
              "      <td>4.000000</td>\n",
              "      <td>4.000000</td>\n",
              "      <td>6.000000</td>\n",
              "      <td>1.000000</td>\n",
              "      <td>18.000000</td>\n",
              "      <td>2.000000</td>\n",
              "      <td>3.000000</td>\n",
              "      <td>7.000000</td>\n",
              "      <td>196.392500</td>\n",
              "    </tr>\n",
              "    <tr>\n",
              "      <th>max</th>\n",
              "      <td>61.000000</td>\n",
              "      <td>3.000000</td>\n",
              "      <td>127.000000</td>\n",
              "      <td>5.000000</td>\n",
              "      <td>6.000000</td>\n",
              "      <td>5.000000</td>\n",
              "      <td>22.000000</td>\n",
              "      <td>1.000000</td>\n",
              "      <td>26.000000</td>\n",
              "      <td>16.000000</td>\n",
              "      <td>16.000000</td>\n",
              "      <td>46.000000</td>\n",
              "      <td>324.990000</td>\n",
              "    </tr>\n",
              "  </tbody>\n",
              "</table>\n",
              "</div>"
            ],
            "text/plain": [
              "            Tenure     CityTier  WarehouseToHome  HourSpendOnApp  \\\n",
              "count  5366.000000  5630.000000      5379.000000     5375.000000   \n",
              "mean     10.189899     1.654707        15.639896        2.931535   \n",
              "std       8.557241     0.915389         8.531475        0.721926   \n",
              "min       0.000000     1.000000         5.000000        0.000000   \n",
              "25%       2.000000     1.000000         9.000000        2.000000   \n",
              "50%       9.000000     1.000000        14.000000        3.000000   \n",
              "75%      16.000000     3.000000        20.000000        3.000000   \n",
              "max      61.000000     3.000000       127.000000        5.000000   \n",
              "\n",
              "       NumberOfDeviceRegistered  SatisfactionScore  NumberOfAddress  \\\n",
              "count               5630.000000        5630.000000      5630.000000   \n",
              "mean                   3.688988           3.066785         4.214032   \n",
              "std                    1.023999           1.380194         2.583586   \n",
              "min                    1.000000           1.000000         1.000000   \n",
              "25%                    3.000000           2.000000         2.000000   \n",
              "50%                    4.000000           3.000000         3.000000   \n",
              "75%                    4.000000           4.000000         6.000000   \n",
              "max                    6.000000           5.000000        22.000000   \n",
              "\n",
              "          Complain  OrderAmountHikeFromlastYear   CouponUsed   OrderCount  \\\n",
              "count  5630.000000                  5365.000000  5374.000000  5372.000000   \n",
              "mean      0.284902                    15.707922     1.751023     3.008004   \n",
              "std       0.451408                     3.675485     1.894621     2.939680   \n",
              "min       0.000000                    11.000000     0.000000     1.000000   \n",
              "25%       0.000000                    13.000000     1.000000     1.000000   \n",
              "50%       0.000000                    15.000000     1.000000     2.000000   \n",
              "75%       1.000000                    18.000000     2.000000     3.000000   \n",
              "max       1.000000                    26.000000    16.000000    16.000000   \n",
              "\n",
              "       DaySinceLastOrder  CashbackAmount  \n",
              "count        5323.000000     5630.000000  \n",
              "mean            4.543491      177.223030  \n",
              "std             3.654433       49.207036  \n",
              "min             0.000000        0.000000  \n",
              "25%             2.000000      145.770000  \n",
              "50%             3.000000      163.280000  \n",
              "75%             7.000000      196.392500  \n",
              "max            46.000000      324.990000  "
            ]
          },
          "execution_count": 562,
          "metadata": {},
          "output_type": "execute_result"
        }
      ],
      "source": [
        "# get descriptive statistical information for the variable nums\n",
        "df[nums].describe()"
      ]
    },
    {
      "cell_type": "markdown",
      "id": "5949ad4d",
      "metadata": {
        "id": "5949ad4d"
      },
      "source": [
        "Some observations from the *statistical summary* numeric column above:\n",
        "* The distribution of values from several columns \"looks\" normal because *mean* and *median* are quite close and the value of Q2 is more or less right in the middle of Q1 - Q3)\n",
        "* There are some columns that also look skewed"
      ]
    },
    {
      "cell_type": "code",
      "execution_count": null,
      "id": "7471324d",
      "metadata": {
        "id": "7471324d",
        "outputId": "9c9cb8fe-cce3-47d5-c0b7-c83ece278b1b"
      },
      "outputs": [
        {
          "data": {
            "text/html": [
              "<div>\n",
              "<style scoped>\n",
              "    .dataframe tbody tr th:only-of-type {\n",
              "        vertical-align: middle;\n",
              "    }\n",
              "\n",
              "    .dataframe tbody tr th {\n",
              "        vertical-align: top;\n",
              "    }\n",
              "\n",
              "    .dataframe thead th {\n",
              "        text-align: right;\n",
              "    }\n",
              "</style>\n",
              "<table border=\"1\" class=\"dataframe\">\n",
              "  <thead>\n",
              "    <tr style=\"text-align: right;\">\n",
              "      <th></th>\n",
              "      <th>PreferredLoginDevice</th>\n",
              "      <th>PreferredPaymentMode</th>\n",
              "      <th>Gender</th>\n",
              "      <th>PreferedOrderCat</th>\n",
              "      <th>MaritalStatus</th>\n",
              "    </tr>\n",
              "  </thead>\n",
              "  <tbody>\n",
              "    <tr>\n",
              "      <th>count</th>\n",
              "      <td>5630</td>\n",
              "      <td>5630</td>\n",
              "      <td>5630</td>\n",
              "      <td>5630</td>\n",
              "      <td>5630</td>\n",
              "    </tr>\n",
              "    <tr>\n",
              "      <th>unique</th>\n",
              "      <td>3</td>\n",
              "      <td>7</td>\n",
              "      <td>2</td>\n",
              "      <td>6</td>\n",
              "      <td>3</td>\n",
              "    </tr>\n",
              "    <tr>\n",
              "      <th>top</th>\n",
              "      <td>Mobile Phone</td>\n",
              "      <td>Debit Card</td>\n",
              "      <td>Male</td>\n",
              "      <td>Laptop &amp; Accessory</td>\n",
              "      <td>Married</td>\n",
              "    </tr>\n",
              "    <tr>\n",
              "      <th>freq</th>\n",
              "      <td>2765</td>\n",
              "      <td>2314</td>\n",
              "      <td>3384</td>\n",
              "      <td>2050</td>\n",
              "      <td>2986</td>\n",
              "    </tr>\n",
              "  </tbody>\n",
              "</table>\n",
              "</div>"
            ],
            "text/plain": [
              "       PreferredLoginDevice PreferredPaymentMode Gender    PreferedOrderCat  \\\n",
              "count                  5630                 5630   5630                5630   \n",
              "unique                    3                    7      2                   6   \n",
              "top            Mobile Phone           Debit Card   Male  Laptop & Accessory   \n",
              "freq                   2765                 2314   3384                2050   \n",
              "\n",
              "       MaritalStatus  \n",
              "count           5630  \n",
              "unique             3  \n",
              "top          Married  \n",
              "freq            2986  "
            ]
          },
          "execution_count": 563,
          "metadata": {},
          "output_type": "execute_result"
        }
      ],
      "source": [
        "# get descriptive statistical information for the variable cats\n",
        "df[cats].describe()"
      ]
    },
    {
      "cell_type": "markdown",
      "id": "44e9f172",
      "metadata": {
        "id": "44e9f172"
      },
      "source": [
        "Some observations from the *statistical summary* categorical column above:\n",
        "* The majority of data are Male (The top of the column \"Gender\" is \"Male\" with a frequency of 3384)\n",
        "* The distribution of values in all column categories looks dominated by certain values"
      ]
    },
    {
      "cell_type": "code",
      "execution_count": null,
      "id": "f4e346f3",
      "metadata": {
        "id": "f4e346f3",
        "outputId": "5f7855f7-7c8d-434f-e4c8-36effc55ebba"
      },
      "outputs": [
        {
          "data": {
            "image/png": "[encoded data removed]",
            "text/plain": [
              "<Figure size 504x1080 with 13 Axes>"
            ]
          },
          "metadata": {
            "needs_background": "light"
          },
          "output_type": "display_data"
        }
      ],
      "source": [
        "#boxplot\n",
        "for i in range(0, len(nums)):\n",
        "    plt.subplot(len(nums),1,i+1)\n",
        "    sns.boxplot(df[nums[i]], color='pink', orient='v')\n",
        "    plt.tight_layout()"
      ]
    },
    {
      "cell_type": "markdown",
      "id": "f31785c8",
      "metadata": {
        "id": "f31785c8"
      },
      "source": [
        "We can observe data outliers in each variable by using a boxplot.\n",
        "* Outliers visible in almost all existing columns\n",
        "* Outliers to be removed are outliers from numeric variables and only outliers with extreme values"
      ]
    },
    {
      "cell_type": "code",
      "execution_count": null,
      "id": "87b753a3",
      "metadata": {
        "id": "87b753a3",
        "outputId": "f4a6b24e-e751-4856-dd95-fb33d2bf34df"
      },
      "outputs": [
        {
          "data": {
            "image/png": "[encoded data removed]",
            "text/plain": [
              "<Figure size 864x360 with 13 Axes>"
            ]
          },
          "metadata": {
            "needs_background": "light"
          },
          "output_type": "display_data"
        }
      ],
      "source": [
        "#displot\n",
        "plt.figure(figsize=(12, 5))\n",
        "for i in range(0, len(nums)):\n",
        "    plt.subplot(3, 5, i+1)\n",
        "    sns.distplot(df[nums[i]], color='red')\n",
        "    plt.tight_layout()"
      ]
    },
    {
      "cell_type": "markdown",
      "id": "ca6e59dd",
      "metadata": {
        "id": "ca6e59dd"
      },
      "source": [
        "Using the distribution plot, we can observe that:\n",
        "* Almost no visible variable/column has a normal distribution"
      ]
    },
    {
      "cell_type": "code",
      "execution_count": null,
      "id": "ef0d3173",
      "metadata": {
        "id": "ef0d3173",
        "outputId": "3a6ec6d2-881a-4bd6-ec29-54b62c6e67d7"
      },
      "outputs": [
        {
          "data": {
            "image/png": "[encoded data removed]",
            "text/plain": [
              "<Figure size 576x864 with 5 Axes>"
            ]
          },
          "metadata": {
            "needs_background": "light"
          },
          "output_type": "display_data"
        }
      ],
      "source": [
        "#barplot\n",
        "plt.figure(figsize=(8, 12))\n",
        "for i in range(0, len(cats)):\n",
        "    plt.subplot(5,1,i+1)\n",
        "    sns.countplot(df[cats[i]], color='gold', orient='v')\n",
        "    plt.tight_layout()"
      ]
    },
    {
      "cell_type": "markdown",
      "id": "a2384453",
      "metadata": {
        "id": "a2384453"
      },
      "source": [
        "From the barplot we can see the count value of each value in each variable. We get information that:\n",
        "* These variables have an uneven distribution of values or focus on only one/a few values"
      ]
    },
    {
      "cell_type": "markdown",
      "id": "9b8fcddc",
      "metadata": {
        "id": "9b8fcddc"
      },
      "source": [
        "## Bivariate analysis"
      ]
    },
    {
      "cell_type": "code",
      "execution_count": null,
      "id": "f9012089",
      "metadata": {
        "id": "f9012089",
        "outputId": "257354f9-61ad-437c-b703-dfa4421e6dca"
      },
      "outputs": [
        {
          "data": {
            "text/plain": [
              "<AxesSubplot:>"
            ]
          },
          "execution_count": 567,
          "metadata": {},
          "output_type": "execute_result"
        },
        {
          "data": {
            "image/png": "[encoded data removed]",
            "text/plain": [
              "<Figure size 720x720 with 2 Axes>"
            ]
          },
          "metadata": {
            "needs_background": "light"
          },
          "output_type": "display_data"
        }
      ],
      "source": [
        "plt.figure(figsize=(10, 10))\n",
        "sns.heatmap(df.corr(), cmap='Blues', annot=True, fmt='.2f')"
      ]
    },
    {
      "cell_type": "markdown",
      "id": "04225d2b",
      "metadata": {
        "id": "04225d2b"
      },
      "source": [
        "From the *correlation plot* above, it can be seen that:\n",
        "* Target `churn` has weak positive correlation with all variables except 'Tenure' and 'Complain'\n",
        "* Tenure variable has a high negative correlation with the target variable\n",
        "* The Complain variable has a fairly high positive correlation with the target variable"
      ]
    },
    {
      "cell_type": "markdown",
      "id": "040dce08",
      "metadata": {
        "id": "040dce08"
      },
      "source": [
        "# Data Pre-Processing"
      ]
    },
    {
      "cell_type": "markdown",
      "id": "0a069b82",
      "metadata": {
        "id": "0a069b82"
      },
      "source": [
        "## Handle Missing Values"
      ]
    },
    {
      "cell_type": "code",
      "execution_count": null,
      "id": "1e4f505e",
      "metadata": {
        "id": "1e4f505e",
        "outputId": "022f7c8c-836a-46a4-86f2-85d3da83e7b5"
      },
      "outputs": [
        {
          "data": {
            "text/plain": [
              "CustomerID                       0\n",
              "Churn                            0\n",
              "Tenure                         264\n",
              "PreferredLoginDevice             0\n",
              "CityTier                         0\n",
              "WarehouseToHome                251\n",
              "PreferredPaymentMode             0\n",
              "Gender                           0\n",
              "HourSpendOnApp                 255\n",
              "NumberOfDeviceRegistered         0\n",
              "PreferedOrderCat                 0\n",
              "SatisfactionScore                0\n",
              "MaritalStatus                    0\n",
              "NumberOfAddress                  0\n",
              "Complain                         0\n",
              "OrderAmountHikeFromlastYear    265\n",
              "CouponUsed                     256\n",
              "OrderCount                     258\n",
              "DaySinceLastOrder              307\n",
              "CashbackAmount                   0\n",
              "dtype: int64"
            ]
          },
          "execution_count": 568,
          "metadata": {},
          "output_type": "execute_result"
        }
      ],
      "source": [
        "# find the value of missing data\n",
        "df.isna().sum()"
      ]
    },
    {
      "cell_type": "code",
      "execution_count": null,
      "id": "578f6400",
      "metadata": {
        "id": "578f6400"
      },
      "outputs": [],
      "source": [
        "# drop data for target variable\n",
        "df.dropna(subset=['Churn'], inplace=True)"
      ]
    },
    {
      "cell_type": "code",
      "execution_count": null,
      "id": "0a431a5a",
      "metadata": {
        "id": "0a431a5a"
      },
      "outputs": [],
      "source": [
        "# Numerical and categorical imputation\n",
        "\n",
        "df['Tenure'].fillna(df['Tenure'].median(), inplace=True)\n",
        "df['WarehouseToHome'].fillna(df['WarehouseToHome'].median(), inplace=True)\n",
        "df['HourSpendOnApp'].fillna(df['HourSpendOnApp'].mode()[0], inplace=True)\n",
        "df['OrderAmountHikeFromlastYear'].fillna(df['OrderAmountHikeFromlastYear'].median(), inplace=True)\n",
        "df['CouponUsed'].fillna(df['CouponUsed'].median(), inplace=True)\n",
        "df['OrderCount'].fillna(df['OrderCount'].median(), inplace=True)\n",
        "df['DaySinceLastOrder'].fillna(df['DaySinceLastOrder'].median(), inplace=True)"
      ]
    },
    {
      "cell_type": "code",
      "execution_count": null,
      "id": "ad964279",
      "metadata": {
        "id": "ad964279",
        "outputId": "a51412e0-88b2-4413-86bc-7ce22614ef5f"
      },
      "outputs": [
        {
          "data": {
            "text/plain": [
              "CustomerID                     0\n",
              "Churn                          0\n",
              "Tenure                         0\n",
              "PreferredLoginDevice           0\n",
              "CityTier                       0\n",
              "WarehouseToHome                0\n",
              "PreferredPaymentMode           0\n",
              "Gender                         0\n",
              "HourSpendOnApp                 0\n",
              "NumberOfDeviceRegistered       0\n",
              "PreferedOrderCat               0\n",
              "SatisfactionScore              0\n",
              "MaritalStatus                  0\n",
              "NumberOfAddress                0\n",
              "Complain                       0\n",
              "OrderAmountHikeFromlastYear    0\n",
              "CouponUsed                     0\n",
              "OrderCount                     0\n",
              "DaySinceLastOrder              0\n",
              "CashbackAmount                 0\n",
              "dtype: int64"
            ]
          },
          "execution_count": 490,
          "metadata": {},
          "output_type": "execute_result"
        }
      ],
      "source": [
        "df.isna().sum()"
      ]
    },
    {
      "cell_type": "markdown",
      "id": "23cecc4d",
      "metadata": {
        "id": "23cecc4d"
      },
      "source": [
        "# outlier handling"
      ]
    },
    {
      "cell_type": "markdown",
      "id": "f0e38468",
      "metadata": {
        "id": "f0e38468"
      },
      "source": [
        "Outliers that are removed are extreme outliers only"
      ]
    },
    {
      "cell_type": "code",
      "execution_count": null,
      "id": "eb56b8c3",
      "metadata": {
        "id": "eb56b8c3",
        "outputId": "1888b5ef-a480-4320-b09a-6b290cc94f3f"
      },
      "outputs": [
        {
          "name": "stdout",
          "output_type": "stream",
          "text": [
            "Jumlah baris sebelum memfilter outlier: 5630\n",
            "Jumlah baris setelah memfilter outlier: 5626\n"
          ]
        }
      ],
      "source": [
        "#Jumlah baris sebelum memfilter outlier = Number of rows before filtering outliers\n",
        "#Jumlah baris setelah memfilter outlier = Number of rows after filtering outliers\n",
        "\n",
        "print(f'Jumlah baris sebelum memfilter outlier: {len(df)}')\n",
        "df[\"Tenure\"][df[\"Tenure\"]>=50]=np.nan\n",
        "df=df.dropna()\n",
        "\n",
        "print(f'Jumlah baris setelah memfilter outlier: {len(df)}')"
      ]
    },
    {
      "cell_type": "code",
      "execution_count": null,
      "id": "aea001ea",
      "metadata": {
        "id": "aea001ea",
        "outputId": "982f8d8c-0658-4da3-ddf7-4585aabac10e"
      },
      "outputs": [
        {
          "name": "stdout",
          "output_type": "stream",
          "text": [
            "Jumlah baris sebelum memfilter outlier: 5626\n",
            "Jumlah baris setelah memfilter outlier: 5624\n"
          ]
        }
      ],
      "source": [
        "print(f'Jumlah baris sebelum memfilter outlier: {len(df)}')\n",
        "df[\"WarehouseToHome\"][df[\"WarehouseToHome\"]>=100]=np.nan\n",
        "df=df.dropna()\n",
        "\n",
        "print(f'Jumlah baris setelah memfilter outlier: {len(df)}')"
      ]
    },
    {
      "cell_type": "code",
      "execution_count": null,
      "id": "25b2ec66",
      "metadata": {
        "id": "25b2ec66",
        "outputId": "1b504f78-1d3a-4964-f5b6-ddfa723de1d1"
      },
      "outputs": [
        {
          "name": "stdout",
          "output_type": "stream",
          "text": [
            "Jumlah baris sebelum memfilter outlier: 5624\n",
            "Jumlah baris setelah memfilter outlier: 5620\n"
          ]
        }
      ],
      "source": [
        "print(f'Jumlah baris sebelum memfilter outlier: {len(df)}')\n",
        "df[\"NumberOfAddress\"][df[\"NumberOfAddress\"]>=15]=np.nan\n",
        "df=df.dropna()\n",
        "\n",
        "print(f'Jumlah baris setelah memfilter outlier: {len(df)}')"
      ]
    },
    {
      "cell_type": "code",
      "execution_count": null,
      "id": "481889d3",
      "metadata": {
        "id": "481889d3",
        "outputId": "3256d698-ea1d-47b3-fc0e-1aefdb22e658"
      },
      "outputs": [
        {
          "name": "stdout",
          "output_type": "stream",
          "text": [
            "Jumlah baris sebelum memfilter outlier: 5620\n",
            "Jumlah baris setelah memfilter outlier: 5587\n"
          ]
        }
      ],
      "source": [
        "print(f'Jumlah baris sebelum memfilter outlier: {len(df)}')\n",
        "df[\"OrderAmountHikeFromlastYear\"][df[\"OrderAmountHikeFromlastYear\"]>=25.7]=np.nan\n",
        "df=df.dropna()\n",
        "\n",
        "print(f'Jumlah baris setelah memfilter outlier: {len(df)}')"
      ]
    },
    {
      "cell_type": "code",
      "execution_count": null,
      "id": "22924038",
      "metadata": {
        "id": "22924038",
        "outputId": "7e431162-8867-4293-ee6c-d388928b7dad"
      },
      "outputs": [
        {
          "name": "stdout",
          "output_type": "stream",
          "text": [
            "Jumlah baris sebelum memfilter outlier: 5587\n",
            "Jumlah baris setelah memfilter outlier: 5584\n"
          ]
        }
      ],
      "source": [
        "print(f'Jumlah baris sebelum memfilter outlier: {len(df)}')\n",
        "df[\"DaySinceLastOrder\"][df[\"DaySinceLastOrder\"]>=29]=np.nan\n",
        "df=df.dropna()\n",
        "\n",
        "print(f'Jumlah baris setelah memfilter outlier: {len(df)}')"
      ]
    },
    {
      "cell_type": "code",
      "execution_count": null,
      "id": "5cb66f88",
      "metadata": {
        "id": "5cb66f88",
        "outputId": "611730c5-32f5-4db8-9936-2b59edff661b"
      },
      "outputs": [
        {
          "name": "stdout",
          "output_type": "stream",
          "text": [
            "Jumlah baris sebelum memfilter outlier: 5584\n",
            "Jumlah baris setelah memfilter outlier: 5148\n"
          ]
        }
      ],
      "source": [
        "print(f'Jumlah baris sebelum memfilter outlier: {len(df)}')\n",
        "\n",
        "filtered_entries = np.array([True] * len(df))\n",
        "for col in ['CashbackAmount']:\n",
        "    Q1 = df[col].quantile(0.25)\n",
        "    Q3 = df[col].quantile(0.75)\n",
        "    IQR = Q3 - Q1\n",
        "    low_limit = Q1 - (IQR * 1.5)\n",
        "    high_limit = Q3 + (IQR * 1.5)\n",
        "\n",
        "    filtered_entries = ((df[col] >= low_limit) & (df[col] <= high_limit)) & filtered_entries\n",
        "    \n",
        "df = df[filtered_entries]\n",
        "\n",
        "print(f'Jumlah baris setelah memfilter outlier: {len(df)}')"
      ]
    },
    {
      "cell_type": "markdown",
      "id": "631bbf7a",
      "metadata": {
        "id": "631bbf7a"
      },
      "source": [
        "## Feature Engineering"
      ]
    },
    {
      "cell_type": "code",
      "execution_count": null,
      "id": "aaaa27ed",
      "metadata": {
        "id": "aaaa27ed"
      },
      "outputs": [],
      "source": [
        "for cat in cats:\n",
        "    onehots = pd.get_dummies(df[cat], prefix=cat)\n",
        "    df = df.join(onehots)"
      ]
    },
    {
      "cell_type": "markdown",
      "id": "1b92ff22",
      "metadata": {
        "id": "1b92ff22"
      },
      "source": [
        "One hot encoding is done because the categorical variables that exist are only as differentiators and have no levels"
      ]
    },
    {
      "cell_type": "code",
      "execution_count": null,
      "id": "2e99e082",
      "metadata": {
        "id": "2e99e082",
        "outputId": "c9afc20b-ed65-4c7c-d48e-03a2587cdc8b"
      },
      "outputs": [
        {
          "name": "stdout",
          "output_type": "stream",
          "text": [
            "<class 'pandas.core.frame.DataFrame'>\n",
            "Int64Index: 5148 entries, 0 to 5629\n",
            "Data columns (total 40 columns):\n",
            " #   Column                                 Non-Null Count  Dtype  \n",
            "---  ------                                 --------------  -----  \n",
            " 0   CustomerID                             5148 non-null   int64  \n",
            " 1   Churn                                  5148 non-null   int64  \n",
            " 2   Tenure                                 5148 non-null   float64\n",
            " 3   PreferredLoginDevice                   5148 non-null   object \n",
            " 4   CityTier                               5148 non-null   int64  \n",
            " 5   WarehouseToHome                        5148 non-null   float64\n",
            " 6   PreferredPaymentMode                   5148 non-null   object \n",
            " 7   Gender                                 5148 non-null   object \n",
            " 8   HourSpendOnApp                         5148 non-null   float64\n",
            " 9   NumberOfDeviceRegistered               5148 non-null   int64  \n",
            " 10  PreferedOrderCat                       5148 non-null   object \n",
            " 11  SatisfactionScore                      5148 non-null   int64  \n",
            " 12  MaritalStatus                          5148 non-null   object \n",
            " 13  NumberOfAddress                        5148 non-null   float64\n",
            " 14  Complain                               5148 non-null   int64  \n",
            " 15  OrderAmountHikeFromlastYear            5148 non-null   float64\n",
            " 16  CouponUsed                             5148 non-null   float64\n",
            " 17  OrderCount                             5148 non-null   float64\n",
            " 18  DaySinceLastOrder                      5148 non-null   float64\n",
            " 19  CashbackAmount                         5148 non-null   float64\n",
            " 20  PreferredLoginDevice_Computer          5148 non-null   uint8  \n",
            " 21  PreferredLoginDevice_Mobile Phone      5148 non-null   uint8  \n",
            " 22  PreferredLoginDevice_Phone             5148 non-null   uint8  \n",
            " 23  PreferredPaymentMode_CC                5148 non-null   uint8  \n",
            " 24  PreferredPaymentMode_COD               5148 non-null   uint8  \n",
            " 25  PreferredPaymentMode_Cash on Delivery  5148 non-null   uint8  \n",
            " 26  PreferredPaymentMode_Credit Card       5148 non-null   uint8  \n",
            " 27  PreferredPaymentMode_Debit Card        5148 non-null   uint8  \n",
            " 28  PreferredPaymentMode_E wallet          5148 non-null   uint8  \n",
            " 29  PreferredPaymentMode_UPI               5148 non-null   uint8  \n",
            " 30  Gender_Female                          5148 non-null   uint8  \n",
            " 31  Gender_Male                            5148 non-null   uint8  \n",
            " 32  PreferedOrderCat_Fashion               5148 non-null   uint8  \n",
            " 33  PreferedOrderCat_Grocery               5148 non-null   uint8  \n",
            " 34  PreferedOrderCat_Laptop & Accessory    5148 non-null   uint8  \n",
            " 35  PreferedOrderCat_Mobile                5148 non-null   uint8  \n",
            " 36  PreferedOrderCat_Mobile Phone          5148 non-null   uint8  \n",
            " 37  MaritalStatus_Divorced                 5148 non-null   uint8  \n",
            " 38  MaritalStatus_Married                  5148 non-null   uint8  \n",
            " 39  MaritalStatus_Single                   5148 non-null   uint8  \n",
            "dtypes: float64(9), int64(6), object(5), uint8(20)\n",
            "memory usage: 1.0+ MB\n"
          ]
        }
      ],
      "source": [
        "df.info()"
      ]
    },
    {
      "cell_type": "code",
      "execution_count": null,
      "id": "554ccdbb",
      "metadata": {
        "id": "554ccdbb",
        "outputId": "ed4251d5-e8a5-4558-f208-0c55dc6b3fc6"
      },
      "outputs": [
        {
          "data": {
            "text/plain": [
              "Index(['CustomerID', 'Churn', 'Tenure', 'PreferredLoginDevice', 'CityTier',\n",
              "       'WarehouseToHome', 'PreferredPaymentMode', 'Gender', 'HourSpendOnApp',\n",
              "       'NumberOfDeviceRegistered', 'PreferedOrderCat', 'SatisfactionScore',\n",
              "       'MaritalStatus', 'NumberOfAddress', 'Complain',\n",
              "       'OrderAmountHikeFromlastYear', 'CouponUsed', 'OrderCount',\n",
              "       'DaySinceLastOrder', 'CashbackAmount', 'PreferredLoginDevice_Computer',\n",
              "       'PreferredLoginDevice_Mobile Phone', 'PreferredLoginDevice_Phone',\n",
              "       'PreferredPaymentMode_CC', 'PreferredPaymentMode_COD',\n",
              "       'PreferredPaymentMode_Cash on Delivery',\n",
              "       'PreferredPaymentMode_Credit Card', 'PreferredPaymentMode_Debit Card',\n",
              "       'PreferredPaymentMode_E wallet', 'PreferredPaymentMode_UPI',\n",
              "       'Gender_Female', 'Gender_Male', 'PreferedOrderCat_Fashion',\n",
              "       'PreferedOrderCat_Grocery', 'PreferedOrderCat_Laptop & Accessory',\n",
              "       'PreferedOrderCat_Mobile', 'PreferedOrderCat_Mobile Phone',\n",
              "       'MaritalStatus_Divorced', 'MaritalStatus_Married',\n",
              "       'MaritalStatus_Single'],\n",
              "      dtype='object')"
            ]
          },
          "execution_count": 499,
          "metadata": {},
          "output_type": "execute_result"
        }
      ],
      "source": [
        "df.columns"
      ]
    },
    {
      "cell_type": "markdown",
      "id": "0c248c6d",
      "metadata": {
        "id": "0c248c6d"
      },
      "source": [
        "# Business Analyst (EDA)"
      ]
    },
    {
      "cell_type": "markdown",
      "id": "7d6fc71d",
      "metadata": {
        "id": "7d6fc71d"
      },
      "source": [
        "### Churn vs gender"
      ]
    },
    {
      "cell_type": "code",
      "execution_count": null,
      "id": "adf8141f",
      "metadata": {
        "id": "adf8141f",
        "outputId": "922bb963-64d5-4f1a-c5d6-6a2b5135eeb1"
      },
      "outputs": [
        {
          "data": {
            "text/plain": [
              "Churn\n",
              "0    4225\n",
              "1     923\n",
              "Name: Churn, dtype: int64"
            ]
          },
          "execution_count": 500,
          "metadata": {},
          "output_type": "execute_result"
        }
      ],
      "source": [
        "df.groupby('Churn')['Churn'].count()"
      ]
    },
    {
      "cell_type": "code",
      "execution_count": null,
      "id": "6f9c86d4",
      "metadata": {
        "id": "6f9c86d4",
        "outputId": "3a323115-2ea6-4e63-a4ea-fdabd3176e73"
      },
      "outputs": [
        {
          "data": {
            "text/plain": [
              "Gender\n",
              "Female    2065\n",
              "Male      3083\n",
              "Name: Gender, dtype: int64"
            ]
          },
          "execution_count": 501,
          "metadata": {},
          "output_type": "execute_result"
        }
      ],
      "source": [
        "df.groupby('Gender')['Gender'].count()"
      ]
    },
    {
      "cell_type": "markdown",
      "id": "5c8679bd",
      "metadata": {
        "id": "5c8679bd"
      },
      "source": [
        "Male are the most users who use the app"
      ]
    },
    {
      "cell_type": "code",
      "execution_count": null,
      "id": "a13764b5",
      "metadata": {
        "id": "a13764b5",
        "outputId": "5f707172-aba1-42e9-d70f-ce3070cc8135"
      },
      "outputs": [
        {
          "data": {
            "image/png": "[encoded data removed]",
            "text/plain": [
              "<Figure size 360x504 with 1 Axes>"
            ]
          },
          "metadata": {
            "needs_background": "light"
          },
          "output_type": "display_data"
        }
      ],
      "source": [
        "plt.figure(figsize = (5,7))\n",
        "sns.countplot(x = 'Gender', hue = 'Churn', data=df)\n",
        "plt.show()"
      ]
    },
    {
      "cell_type": "markdown",
      "id": "e346bd89",
      "metadata": {
        "id": "e346bd89"
      },
      "source": [
        "Insight = Gender between male and female is not related to churn"
      ]
    },
    {
      "cell_type": "markdown",
      "id": "e33bf989",
      "metadata": {
        "id": "e33bf989"
      },
      "source": [
        "### Churn vs MaritalStatus"
      ]
    },
    {
      "cell_type": "code",
      "execution_count": null,
      "id": "7c1bbb5d",
      "metadata": {
        "id": "7c1bbb5d",
        "outputId": "dc57d7f1-23e0-4f14-951f-cbeb89662fdf"
      },
      "outputs": [
        {
          "data": {
            "text/plain": [
              "MaritalStatus  Churn\n",
              "Divorced       0         639\n",
              "               1         118\n",
              "Married        0        2368\n",
              "               1         337\n",
              "Single         0        1218\n",
              "               1         468\n",
              "Name: MaritalStatus, dtype: int64"
            ]
          },
          "execution_count": 503,
          "metadata": {},
          "output_type": "execute_result"
        }
      ],
      "source": [
        "df.groupby(['MaritalStatus','Churn'])['MaritalStatus'].count()"
      ]
    },
    {
      "cell_type": "code",
      "execution_count": null,
      "id": "755d42a6",
      "metadata": {
        "id": "755d42a6",
        "outputId": "f99c465d-256a-4ed5-b7c5-3bae1cfcb78b"
      },
      "outputs": [
        {
          "data": {
            "image/png": "[encoded data removed]",
            "text/plain": [
              "<Figure size 360x504 with 1 Axes>"
            ]
          },
          "metadata": {
            "needs_background": "light"
          },
          "output_type": "display_data"
        }
      ],
      "source": [
        "plt.figure(figsize = (5,7))\n",
        "sns.countplot(x = 'MaritalStatus', hue = 'Churn', data=df)\n",
        "plt.show()"
      ]
    },
    {
      "cell_type": "markdown",
      "id": "d56e46e3",
      "metadata": {
        "id": "d56e46e3"
      },
      "source": [
        "Insight = It can be seen that there are more single customers who churn compared to divorced and married customers"
      ]
    },
    {
      "cell_type": "markdown",
      "id": "89a3b654",
      "metadata": {
        "id": "89a3b654"
      },
      "source": [
        "### Churn vs Complain"
      ]
    },
    {
      "cell_type": "code",
      "execution_count": null,
      "id": "8ce123a1",
      "metadata": {
        "id": "8ce123a1",
        "outputId": "b60f4a9d-f8b9-49c9-a47c-2b60457cd5cd"
      },
      "outputs": [
        {
          "data": {
            "image/png": "[encoded data removed]",
            "text/plain": [
              "<Figure size 360x504 with 1 Axes>"
            ]
          },
          "metadata": {
            "needs_background": "light"
          },
          "output_type": "display_data"
        }
      ],
      "source": [
        "plt.figure(figsize = (5,7))\n",
        "sns.countplot(x='Complain', hue='Churn', data=df)\n",
        "plt.title(\"Distribution of complain for churned and retained customers\")\n",
        "plt.show()"
      ]
    },
    {
      "cell_type": "markdown",
      "id": "9d903d89",
      "metadata": {
        "id": "9d903d89"
      },
      "source": [
        "Insight = It can be seen that customers who complain have more churn compared to customers who do not complain"
      ]
    },
    {
      "cell_type": "code",
      "execution_count": null,
      "id": "4249d3ec",
      "metadata": {
        "id": "4249d3ec",
        "outputId": "7f01855d-fd46-45fb-a88e-16ec03785edf"
      },
      "outputs": [
        {
          "data": {
            "image/png": "[encoded data removed]",
            "text/plain": [
              "<Figure size 1440x1440 with 5 Axes>"
            ]
          },
          "metadata": {
            "needs_background": "light"
          },
          "output_type": "display_data"
        }
      ],
      "source": [
        "cat_features = ['NumberOfDeviceRegistered', 'HourSpendOnApp', 'PreferredLoginDevice', 'CityTier', 'NumberOfAddress']\n",
        "\n",
        "fig, axs = plt.subplots(ncols = 2, nrows = 3, figsize = (20, 20))\n",
        "plt.subplots_adjust(right = 1.5, top = 1.25)\n",
        "\n",
        "for i, feature in enumerate(cat_features, 1):\n",
        "  plt.subplot(2, 3, i)\n",
        "  sns.countplot(x = feature, hue = 'Churn', data = df)\n",
        "\n",
        "  plt.xlabel('{}'.format(feature), size = 20, labelpad = 15)\n",
        "  plt.ylabel('Count', size = 20, labelpad = 15)\n",
        "  plt.tick_params(axis = 'x', labelsize = 20)\n",
        "  plt.tick_params(axis = 'y', labelsize = 20)\n",
        "\n",
        "  plt.legend(['Not Churn', 'Churn'], loc = 'upper center', prop = {'size': 18})\n",
        "  plt.title('Count Churn in {} Feature'.format(feature), size = 20, y = 1.05)\n",
        "\n",
        "plt.show()"
      ]
    },
    {
      "cell_type": "markdown",
      "id": "613e32c0",
      "metadata": {
        "id": "613e32c0"
      },
      "source": [
        "Insight = It can be seen that the variables above are less correlated with the Churn variable"
      ]
    },
    {
      "cell_type": "markdown",
      "id": "649f96ea",
      "metadata": {
        "id": "649f96ea"
      },
      "source": [
        "### Churn vs SatisfactionScore"
      ]
    },
    {
      "cell_type": "code",
      "execution_count": null,
      "id": "11be00e2",
      "metadata": {
        "id": "11be00e2",
        "outputId": "02b07f78-5c5b-4392-c7d4-533fec47aaa9"
      },
      "outputs": [
        {
          "data": {
            "image/png": "[encoded data removed]",
            "text/plain": [
              "<Figure size 360x504 with 1 Axes>"
            ]
          },
          "metadata": {
            "needs_background": "light"
          },
          "output_type": "display_data"
        }
      ],
      "source": [
        "plt.figure(figsize = (5,7))\n",
        "sns.countplot(x='SatisfactionScore', hue='Churn', data=df)\n",
        "plt.show()"
      ]
    },
    {
      "cell_type": "markdown",
      "id": "3913a5a2",
      "metadata": {
        "id": "3913a5a2"
      },
      "source": [
        "Insight = By comparing SatisfactionScore 1 and Statisfaction 5, it can be seen that Satisfaction 5 gives more churn value than Satisfaction 1, so further analysis is needed to score the SatisfactionScore"
      ]
    },
    {
      "cell_type": "markdown",
      "id": "39b3da84",
      "metadata": {
        "id": "39b3da84"
      },
      "source": [
        "### Churn vs CashbackAmount"
      ]
    },
    {
      "cell_type": "code",
      "execution_count": null,
      "id": "55dd1241",
      "metadata": {
        "id": "55dd1241",
        "outputId": "f4867f0b-5c46-473f-9b5d-287593a42269"
      },
      "outputs": [
        {
          "data": {
            "text/plain": [
              "<seaborn.axisgrid.FacetGrid at 0x16f01d16250>"
            ]
          },
          "execution_count": 508,
          "metadata": {},
          "output_type": "execute_result"
        },
        {
          "data": {
            "image/png": "[encoded data removed]",
            "text/plain": [
              "<Figure size 360x360 with 1 Axes>"
            ]
          },
          "metadata": {
            "needs_background": "light"
          },
          "output_type": "display_data"
        }
      ],
      "source": [
        "sns.catplot(data=df, x='Churn', y=\"CashbackAmount\")"
      ]
    },
    {
      "cell_type": "markdown",
      "id": "f9cc22f3",
      "metadata": {
        "id": "f9cc22f3"
      },
      "source": [
        "Insight = It can be seen that if the CashbackAmount is large (above 225) then fewer customers will churn"
      ]
    },
    {
      "cell_type": "markdown",
      "id": "e71996b8",
      "metadata": {
        "id": "e71996b8"
      },
      "source": [
        "### Churn vs Tenure"
      ]
    },
    {
      "cell_type": "code",
      "execution_count": null,
      "id": "5b3e9243",
      "metadata": {
        "id": "5b3e9243",
        "outputId": "762ef5f2-2fe8-4fad-fe58-f24f311f1bd2"
      },
      "outputs": [
        {
          "data": {
            "image/png": "[encoded data removed]",
            "text/plain": [
              "<Figure size 504x360 with 1 Axes>"
            ]
          },
          "metadata": {
            "needs_background": "light"
          },
          "output_type": "display_data"
        }
      ],
      "source": [
        "plt.figure(figsize = (7,5))\n",
        "sns.kdeplot(x = 'Tenure', hue = 'Churn', data=df)\n",
        "plt.show()"
      ]
    },
    {
      "cell_type": "markdown",
      "id": "3e1f5879",
      "metadata": {
        "id": "3e1f5879"
      },
      "source": [
        "Insight = Many customers who do not churn at the Tenure value of 10 and many customers who churn at the beginning of using the product/service."
      ]
    },
    {
      "cell_type": "markdown",
      "id": "03cab534",
      "metadata": {
        "id": "03cab534"
      },
      "source": [
        "### Churn vs DaySinceLastOrder"
      ]
    },
    {
      "cell_type": "code",
      "execution_count": null,
      "id": "d99bb50f",
      "metadata": {
        "id": "d99bb50f",
        "outputId": "49938a9d-cf5d-4e25-d510-de45e7c2d898"
      },
      "outputs": [
        {
          "data": {
            "image/png": "[encoded data removed]",
            "text/plain": [
              "<Figure size 504x360 with 1 Axes>"
            ]
          },
          "metadata": {
            "needs_background": "light"
          },
          "output_type": "display_data"
        }
      ],
      "source": [
        "plt.figure(figsize = (7,5))\n",
        "sns.kdeplot(x = 'DaySinceLastOrder', hue = 'Churn', data=df)\n",
        "plt.show()"
      ]
    },
    {
      "cell_type": "markdown",
      "id": "d18ab34f",
      "metadata": {
        "id": "d18ab34f"
      },
      "source": [
        "Insight = Many customers who don't churn who ordered their products 3 days ago. It is recommended to give promotions 3 days after the customer orders so that many customers don't churn"
      ]
    },
    {
      "cell_type": "markdown",
      "id": "5cd9831e",
      "metadata": {
        "id": "5cd9831e"
      },
      "source": [
        "### Churn vs PreferedOrderCat"
      ]
    },
    {
      "cell_type": "code",
      "execution_count": null,
      "id": "6a0cfb24",
      "metadata": {
        "id": "6a0cfb24"
      },
      "outputs": [],
      "source": [
        "# A little preprocessing has been done. New dataframes are used so as not to change the original data\n",
        "df99 = df.copy()\n",
        "df99['PreferedOrderCat'] = df99['PreferedOrderCat'].replace(['Mobile'],'Mobile Phone')"
      ]
    },
    {
      "cell_type": "code",
      "execution_count": null,
      "id": "6a01c83a",
      "metadata": {
        "id": "6a01c83a",
        "outputId": "624009ce-9d44-4e43-e22d-a71e740f1df2"
      },
      "outputs": [
        {
          "data": {
            "image/png": "[encoded data removed]",
            "text/plain": [
              "<Figure size 504x360 with 1 Axes>"
            ]
          },
          "metadata": {
            "needs_background": "light"
          },
          "output_type": "display_data"
        }
      ],
      "source": [
        "plt.figure(figsize = (7,5))\n",
        "sns.countplot(y = 'PreferedOrderCat', hue = 'Churn', data = df99, orient = 'v')\n",
        "plt.show()"
      ]
    },
    {
      "cell_type": "markdown",
      "id": "8c83bf16",
      "metadata": {
        "id": "8c83bf16"
      },
      "source": [
        "Insight = A lot of customer churn when ordering a mobile phone. It is recommended to check the product that ordered the mobile phone whether there is something wrong or not"
      ]
    },
    {
      "cell_type": "markdown",
      "id": "08f3453b",
      "metadata": {
        "id": "08f3453b"
      },
      "source": [
        "# ML Preparation and Modelling Experiment"
      ]
    },
    {
      "cell_type": "code",
      "execution_count": null,
      "id": "0d73b29c",
      "metadata": {
        "id": "0d73b29c",
        "outputId": "79d21f4c-df44-48b4-be5f-6a9293152965"
      },
      "outputs": [
        {
          "data": {
            "text/plain": [
              "Tenure                                 0.333441\n",
              "Complain                               0.252331\n",
              "MaritalStatus_Single                   0.178808\n",
              "DaySinceLastOrder                      0.162993\n",
              "PreferedOrderCat_Laptop & Accessory    0.159192\n",
              "MaritalStatus_Married                  0.150073\n",
              "PreferedOrderCat_Mobile Phone          0.143621\n",
              "CashbackAmount                         0.135201\n",
              "NumberOfDeviceRegistered               0.111047\n",
              "SatisfactionScore                      0.110013\n",
              "Name: Churn, dtype: float64"
            ]
          },
          "execution_count": 512,
          "metadata": {},
          "output_type": "execute_result"
        }
      ],
      "source": [
        "#df[abs(df.corr()['Churn']).sort_values(ascending=False).index[1:10]]\n",
        "abs(df.corr()['Churn']).sort_values(ascending=False)[1:11]"
      ]
    },
    {
      "cell_type": "markdown",
      "id": "11ee3b61",
      "metadata": {
        "id": "11ee3b61"
      },
      "source": [
        "Shows 10 features that have a large correlation with the target variable"
      ]
    },
    {
      "cell_type": "code",
      "execution_count": null,
      "id": "1baf8db3",
      "metadata": {
        "id": "1baf8db3"
      },
      "outputs": [],
      "source": [
        "df=df[abs(df.corr()['Churn']).sort_values(ascending=False).index[0:11]]"
      ]
    },
    {
      "cell_type": "code",
      "execution_count": null,
      "id": "07531515",
      "metadata": {
        "id": "07531515",
        "outputId": "14a1af6f-523d-468c-fe7c-db7bc1bec0ff"
      },
      "outputs": [
        {
          "data": {
            "text/html": [
              "<div>\n",
              "<style scoped>\n",
              "    .dataframe tbody tr th:only-of-type {\n",
              "        vertical-align: middle;\n",
              "    }\n",
              "\n",
              "    .dataframe tbody tr th {\n",
              "        vertical-align: top;\n",
              "    }\n",
              "\n",
              "    .dataframe thead th {\n",
              "        text-align: right;\n",
              "    }\n",
              "</style>\n",
              "<table border=\"1\" class=\"dataframe\">\n",
              "  <thead>\n",
              "    <tr style=\"text-align: right;\">\n",
              "      <th></th>\n",
              "      <th>Churn</th>\n",
              "      <th>Tenure</th>\n",
              "      <th>Complain</th>\n",
              "      <th>MaritalStatus_Single</th>\n",
              "      <th>DaySinceLastOrder</th>\n",
              "      <th>PreferedOrderCat_Laptop &amp; Accessory</th>\n",
              "      <th>MaritalStatus_Married</th>\n",
              "      <th>PreferedOrderCat_Mobile Phone</th>\n",
              "      <th>CashbackAmount</th>\n",
              "      <th>NumberOfDeviceRegistered</th>\n",
              "      <th>SatisfactionScore</th>\n",
              "    </tr>\n",
              "  </thead>\n",
              "  <tbody>\n",
              "    <tr>\n",
              "      <th>0</th>\n",
              "      <td>1</td>\n",
              "      <td>4.0</td>\n",
              "      <td>1</td>\n",
              "      <td>1</td>\n",
              "      <td>5.0</td>\n",
              "      <td>1</td>\n",
              "      <td>0</td>\n",
              "      <td>0</td>\n",
              "      <td>159.93</td>\n",
              "      <td>3</td>\n",
              "      <td>2</td>\n",
              "    </tr>\n",
              "    <tr>\n",
              "      <th>1</th>\n",
              "      <td>1</td>\n",
              "      <td>9.0</td>\n",
              "      <td>1</td>\n",
              "      <td>1</td>\n",
              "      <td>0.0</td>\n",
              "      <td>0</td>\n",
              "      <td>0</td>\n",
              "      <td>0</td>\n",
              "      <td>120.90</td>\n",
              "      <td>4</td>\n",
              "      <td>3</td>\n",
              "    </tr>\n",
              "    <tr>\n",
              "      <th>2</th>\n",
              "      <td>1</td>\n",
              "      <td>9.0</td>\n",
              "      <td>1</td>\n",
              "      <td>1</td>\n",
              "      <td>3.0</td>\n",
              "      <td>0</td>\n",
              "      <td>0</td>\n",
              "      <td>0</td>\n",
              "      <td>120.28</td>\n",
              "      <td>4</td>\n",
              "      <td>3</td>\n",
              "    </tr>\n",
              "    <tr>\n",
              "      <th>3</th>\n",
              "      <td>1</td>\n",
              "      <td>0.0</td>\n",
              "      <td>0</td>\n",
              "      <td>1</td>\n",
              "      <td>3.0</td>\n",
              "      <td>1</td>\n",
              "      <td>0</td>\n",
              "      <td>0</td>\n",
              "      <td>134.07</td>\n",
              "      <td>4</td>\n",
              "      <td>5</td>\n",
              "    </tr>\n",
              "    <tr>\n",
              "      <th>4</th>\n",
              "      <td>1</td>\n",
              "      <td>0.0</td>\n",
              "      <td>0</td>\n",
              "      <td>1</td>\n",
              "      <td>3.0</td>\n",
              "      <td>0</td>\n",
              "      <td>0</td>\n",
              "      <td>0</td>\n",
              "      <td>129.60</td>\n",
              "      <td>3</td>\n",
              "      <td>5</td>\n",
              "    </tr>\n",
              "  </tbody>\n",
              "</table>\n",
              "</div>"
            ],
            "text/plain": [
              "   Churn  Tenure  Complain  MaritalStatus_Single  DaySinceLastOrder  \\\n",
              "0      1     4.0         1                     1                5.0   \n",
              "1      1     9.0         1                     1                0.0   \n",
              "2      1     9.0         1                     1                3.0   \n",
              "3      1     0.0         0                     1                3.0   \n",
              "4      1     0.0         0                     1                3.0   \n",
              "\n",
              "   PreferedOrderCat_Laptop & Accessory  MaritalStatus_Married  \\\n",
              "0                                    1                      0   \n",
              "1                                    0                      0   \n",
              "2                                    0                      0   \n",
              "3                                    1                      0   \n",
              "4                                    0                      0   \n",
              "\n",
              "   PreferedOrderCat_Mobile Phone  CashbackAmount  NumberOfDeviceRegistered  \\\n",
              "0                              0          159.93                         3   \n",
              "1                              0          120.90                         4   \n",
              "2                              0          120.28                         4   \n",
              "3                              0          134.07                         4   \n",
              "4                              0          129.60                         3   \n",
              "\n",
              "   SatisfactionScore  \n",
              "0                  2  \n",
              "1                  3  \n",
              "2                  3  \n",
              "3                  5  \n",
              "4                  5  "
            ]
          },
          "execution_count": 514,
          "metadata": {},
          "output_type": "execute_result"
        }
      ],
      "source": [
        "df3 = df.copy()\n",
        "df3.head()"
      ]
    },
    {
      "cell_type": "code",
      "execution_count": null,
      "id": "0884fe31",
      "metadata": {
        "id": "0884fe31",
        "outputId": "e47bbb6f-6f99-4aa2-cfc2-7941949c05db"
      },
      "outputs": [
        {
          "data": {
            "text/html": [
              "<div>\n",
              "<style scoped>\n",
              "    .dataframe tbody tr th:only-of-type {\n",
              "        vertical-align: middle;\n",
              "    }\n",
              "\n",
              "    .dataframe tbody tr th {\n",
              "        vertical-align: top;\n",
              "    }\n",
              "\n",
              "    .dataframe thead th {\n",
              "        text-align: right;\n",
              "    }\n",
              "</style>\n",
              "<table border=\"1\" class=\"dataframe\">\n",
              "  <thead>\n",
              "    <tr style=\"text-align: right;\">\n",
              "      <th></th>\n",
              "      <th>Churn</th>\n",
              "      <th>Tenure</th>\n",
              "      <th>Complain</th>\n",
              "      <th>MaritalStatus_Single</th>\n",
              "      <th>DaySinceLastOrder</th>\n",
              "      <th>PreferedOrderCat_Laptop &amp; Accessory</th>\n",
              "      <th>MaritalStatus_Married</th>\n",
              "      <th>PreferedOrderCat_Mobile Phone</th>\n",
              "      <th>CashbackAmount</th>\n",
              "      <th>NumberOfDeviceRegistered</th>\n",
              "      <th>SatisfactionScore</th>\n",
              "    </tr>\n",
              "  </thead>\n",
              "  <tbody>\n",
              "    <tr>\n",
              "      <th>2289</th>\n",
              "      <td>0</td>\n",
              "      <td>1.0</td>\n",
              "      <td>0</td>\n",
              "      <td>0</td>\n",
              "      <td>5.0</td>\n",
              "      <td>1</td>\n",
              "      <td>1</td>\n",
              "      <td>0</td>\n",
              "      <td>166.74</td>\n",
              "      <td>5</td>\n",
              "      <td>1</td>\n",
              "    </tr>\n",
              "    <tr>\n",
              "      <th>2004</th>\n",
              "      <td>0</td>\n",
              "      <td>1.0</td>\n",
              "      <td>0</td>\n",
              "      <td>1</td>\n",
              "      <td>2.0</td>\n",
              "      <td>1</td>\n",
              "      <td>0</td>\n",
              "      <td>0</td>\n",
              "      <td>149.08</td>\n",
              "      <td>3</td>\n",
              "      <td>1</td>\n",
              "    </tr>\n",
              "    <tr>\n",
              "      <th>366</th>\n",
              "      <td>0</td>\n",
              "      <td>16.0</td>\n",
              "      <td>1</td>\n",
              "      <td>0</td>\n",
              "      <td>7.0</td>\n",
              "      <td>1</td>\n",
              "      <td>1</td>\n",
              "      <td>0</td>\n",
              "      <td>156.79</td>\n",
              "      <td>3</td>\n",
              "      <td>3</td>\n",
              "    </tr>\n",
              "    <tr>\n",
              "      <th>474</th>\n",
              "      <td>0</td>\n",
              "      <td>9.0</td>\n",
              "      <td>0</td>\n",
              "      <td>0</td>\n",
              "      <td>4.0</td>\n",
              "      <td>0</td>\n",
              "      <td>0</td>\n",
              "      <td>0</td>\n",
              "      <td>121.43</td>\n",
              "      <td>3</td>\n",
              "      <td>4</td>\n",
              "    </tr>\n",
              "    <tr>\n",
              "      <th>41</th>\n",
              "      <td>0</td>\n",
              "      <td>14.0</td>\n",
              "      <td>0</td>\n",
              "      <td>0</td>\n",
              "      <td>8.0</td>\n",
              "      <td>0</td>\n",
              "      <td>1</td>\n",
              "      <td>0</td>\n",
              "      <td>124.51</td>\n",
              "      <td>3</td>\n",
              "      <td>3</td>\n",
              "    </tr>\n",
              "    <tr>\n",
              "      <th>4600</th>\n",
              "      <td>1</td>\n",
              "      <td>1.0</td>\n",
              "      <td>1</td>\n",
              "      <td>0</td>\n",
              "      <td>3.0</td>\n",
              "      <td>0</td>\n",
              "      <td>1</td>\n",
              "      <td>0</td>\n",
              "      <td>224.50</td>\n",
              "      <td>4</td>\n",
              "      <td>5</td>\n",
              "    </tr>\n",
              "    <tr>\n",
              "      <th>2206</th>\n",
              "      <td>0</td>\n",
              "      <td>19.0</td>\n",
              "      <td>0</td>\n",
              "      <td>0</td>\n",
              "      <td>9.0</td>\n",
              "      <td>0</td>\n",
              "      <td>1</td>\n",
              "      <td>0</td>\n",
              "      <td>270.48</td>\n",
              "      <td>3</td>\n",
              "      <td>5</td>\n",
              "    </tr>\n",
              "    <tr>\n",
              "      <th>4490</th>\n",
              "      <td>0</td>\n",
              "      <td>17.0</td>\n",
              "      <td>0</td>\n",
              "      <td>0</td>\n",
              "      <td>1.0</td>\n",
              "      <td>1</td>\n",
              "      <td>1</td>\n",
              "      <td>0</td>\n",
              "      <td>177.57</td>\n",
              "      <td>5</td>\n",
              "      <td>3</td>\n",
              "    </tr>\n",
              "    <tr>\n",
              "      <th>2685</th>\n",
              "      <td>0</td>\n",
              "      <td>9.0</td>\n",
              "      <td>1</td>\n",
              "      <td>0</td>\n",
              "      <td>7.0</td>\n",
              "      <td>1</td>\n",
              "      <td>1</td>\n",
              "      <td>0</td>\n",
              "      <td>156.73</td>\n",
              "      <td>4</td>\n",
              "      <td>3</td>\n",
              "    </tr>\n",
              "    <tr>\n",
              "      <th>4573</th>\n",
              "      <td>0</td>\n",
              "      <td>16.0</td>\n",
              "      <td>0</td>\n",
              "      <td>0</td>\n",
              "      <td>5.0</td>\n",
              "      <td>1</td>\n",
              "      <td>1</td>\n",
              "      <td>0</td>\n",
              "      <td>170.23</td>\n",
              "      <td>5</td>\n",
              "      <td>1</td>\n",
              "    </tr>\n",
              "  </tbody>\n",
              "</table>\n",
              "</div>"
            ],
            "text/plain": [
              "      Churn  Tenure  Complain  MaritalStatus_Single  DaySinceLastOrder  \\\n",
              "2289      0     1.0         0                     0                5.0   \n",
              "2004      0     1.0         0                     1                2.0   \n",
              "366       0    16.0         1                     0                7.0   \n",
              "474       0     9.0         0                     0                4.0   \n",
              "41        0    14.0         0                     0                8.0   \n",
              "4600      1     1.0         1                     0                3.0   \n",
              "2206      0    19.0         0                     0                9.0   \n",
              "4490      0    17.0         0                     0                1.0   \n",
              "2685      0     9.0         1                     0                7.0   \n",
              "4573      0    16.0         0                     0                5.0   \n",
              "\n",
              "      PreferedOrderCat_Laptop & Accessory  MaritalStatus_Married  \\\n",
              "2289                                    1                      1   \n",
              "2004                                    1                      0   \n",
              "366                                     1                      1   \n",
              "474                                     0                      0   \n",
              "41                                      0                      1   \n",
              "4600                                    0                      1   \n",
              "2206                                    0                      1   \n",
              "4490                                    1                      1   \n",
              "2685                                    1                      1   \n",
              "4573                                    1                      1   \n",
              "\n",
              "      PreferedOrderCat_Mobile Phone  CashbackAmount  NumberOfDeviceRegistered  \\\n",
              "2289                              0          166.74                         5   \n",
              "2004                              0          149.08                         3   \n",
              "366                               0          156.79                         3   \n",
              "474                               0          121.43                         3   \n",
              "41                                0          124.51                         3   \n",
              "4600                              0          224.50                         4   \n",
              "2206                              0          270.48                         3   \n",
              "4490                              0          177.57                         5   \n",
              "2685                              0          156.73                         4   \n",
              "4573                              0          170.23                         5   \n",
              "\n",
              "      SatisfactionScore  \n",
              "2289                  1  \n",
              "2004                  1  \n",
              "366                   3  \n",
              "474                   4  \n",
              "41                    3  \n",
              "4600                  5  \n",
              "2206                  5  \n",
              "4490                  3  \n",
              "2685                  3  \n",
              "4573                  1  "
            ]
          },
          "execution_count": 515,
          "metadata": {},
          "output_type": "execute_result"
        }
      ],
      "source": [
        "df3.sample(10)"
      ]
    },
    {
      "cell_type": "code",
      "execution_count": null,
      "id": "4a19883a",
      "metadata": {
        "id": "4a19883a",
        "outputId": "7fbfa410-4f18-4b22-b12b-7c34f5bc509e"
      },
      "outputs": [
        {
          "name": "stdout",
          "output_type": "stream",
          "text": [
            "<class 'pandas.core.frame.DataFrame'>\n",
            "Int64Index: 5148 entries, 0 to 5629\n",
            "Data columns (total 11 columns):\n",
            " #   Column                               Non-Null Count  Dtype  \n",
            "---  ------                               --------------  -----  \n",
            " 0   Churn                                5148 non-null   int64  \n",
            " 1   Tenure                               5148 non-null   float64\n",
            " 2   Complain                             5148 non-null   int64  \n",
            " 3   MaritalStatus_Single                 5148 non-null   uint8  \n",
            " 4   DaySinceLastOrder                    5148 non-null   float64\n",
            " 5   PreferedOrderCat_Laptop & Accessory  5148 non-null   uint8  \n",
            " 6   MaritalStatus_Married                5148 non-null   uint8  \n",
            " 7   PreferedOrderCat_Mobile Phone        5148 non-null   uint8  \n",
            " 8   CashbackAmount                       5148 non-null   float64\n",
            " 9   NumberOfDeviceRegistered             5148 non-null   int64  \n",
            " 10  SatisfactionScore                    5148 non-null   int64  \n",
            "dtypes: float64(3), int64(4), uint8(4)\n",
            "memory usage: 470.9 KB\n"
          ]
        }
      ],
      "source": [
        "df3.info()"
      ]
    },
    {
      "cell_type": "code",
      "execution_count": null,
      "id": "0f265327",
      "metadata": {
        "id": "0f265327",
        "outputId": "b5b7cad9-65b7-4bf1-e71e-1d3d3219d204"
      },
      "outputs": [
        {
          "name": "stdout",
          "output_type": "stream",
          "text": [
            "1351\n"
          ]
        }
      ],
      "source": [
        "print(df3.duplicated().sum())\n",
        "df3.drop_duplicates(keep='first',inplace=True)"
      ]
    },
    {
      "cell_type": "markdown",
      "id": "c8d37a78",
      "metadata": {
        "id": "c8d37a78"
      },
      "source": [
        "Delete duplicate data and save the first value of each duplicate data so that there is no redundant data"
      ]
    },
    {
      "cell_type": "markdown",
      "id": "92b3ed1d",
      "metadata": {
        "id": "92b3ed1d"
      },
      "source": [
        "## Train Test Split"
      ]
    },
    {
      "cell_type": "code",
      "execution_count": null,
      "id": "ea6658fb",
      "metadata": {
        "id": "ea6658fb"
      },
      "outputs": [],
      "source": [
        "from sklearn.model_selection import train_test_split\n",
        "\n",
        "X=df3.drop(columns=\"Churn\")\n",
        "y=df3['Churn']\n",
        "\n",
        "X_train, X_test, y_train, y_test = train_test_split(X, y, test_size=0.2, random_state=12)"
      ]
    },
    {
      "cell_type": "markdown",
      "id": "2e2d687a",
      "metadata": {
        "id": "2e2d687a"
      },
      "source": [
        "## Standardization"
      ]
    },
    {
      "cell_type": "code",
      "execution_count": null,
      "id": "b446e436",
      "metadata": {
        "id": "b446e436"
      },
      "outputs": [],
      "source": [
        "from sklearn.preprocessing import StandardScaler\n",
        "sc = StandardScaler()\n",
        "X_train = sc.fit_transform(X_train)\n",
        "X_test = sc.transform(X_test)"
      ]
    },
    {
      "cell_type": "markdown",
      "id": "fc83c39a",
      "metadata": {
        "id": "fc83c39a"
      },
      "source": [
        "Using StandardScaler because its features have a skewed distribution"
      ]
    },
    {
      "cell_type": "code",
      "execution_count": null,
      "id": "6dfe35ee",
      "metadata": {
        "id": "6dfe35ee",
        "outputId": "e8c276a1-3d5f-4d80-8925-43506d200f47"
      },
      "outputs": [
        {
          "data": {
            "text/html": [
              "<div>\n",
              "<style scoped>\n",
              "    .dataframe tbody tr th:only-of-type {\n",
              "        vertical-align: middle;\n",
              "    }\n",
              "\n",
              "    .dataframe tbody tr th {\n",
              "        vertical-align: top;\n",
              "    }\n",
              "\n",
              "    .dataframe thead th {\n",
              "        text-align: right;\n",
              "    }\n",
              "</style>\n",
              "<table border=\"1\" class=\"dataframe\">\n",
              "  <thead>\n",
              "    <tr style=\"text-align: right;\">\n",
              "      <th></th>\n",
              "      <th>Tenure</th>\n",
              "      <th>Complain</th>\n",
              "      <th>MaritalStatus_Single</th>\n",
              "      <th>DaySinceLastOrder</th>\n",
              "      <th>PreferedOrderCat_Laptop &amp; Accessory</th>\n",
              "      <th>MaritalStatus_Married</th>\n",
              "      <th>PreferedOrderCat_Mobile Phone</th>\n",
              "      <th>CashbackAmount</th>\n",
              "      <th>NumberOfDeviceRegistered</th>\n",
              "      <th>SatisfactionScore</th>\n",
              "    </tr>\n",
              "  </thead>\n",
              "  <tbody>\n",
              "    <tr>\n",
              "      <th>0</th>\n",
              "      <td>1.083752</td>\n",
              "      <td>1.613261</td>\n",
              "      <td>-0.638728</td>\n",
              "      <td>1.160632</td>\n",
              "      <td>1.225417</td>\n",
              "      <td>0.976889</td>\n",
              "      <td>-0.565562</td>\n",
              "      <td>-0.888099</td>\n",
              "      <td>-0.636538</td>\n",
              "      <td>1.475141</td>\n",
              "    </tr>\n",
              "    <tr>\n",
              "      <th>1</th>\n",
              "      <td>0.207559</td>\n",
              "      <td>-0.619863</td>\n",
              "      <td>-0.638728</td>\n",
              "      <td>-1.294847</td>\n",
              "      <td>1.225417</td>\n",
              "      <td>-1.023658</td>\n",
              "      <td>-0.565562</td>\n",
              "      <td>0.884221</td>\n",
              "      <td>-0.636538</td>\n",
              "      <td>0.040392</td>\n",
              "    </tr>\n",
              "    <tr>\n",
              "      <th>2</th>\n",
              "      <td>-1.044144</td>\n",
              "      <td>1.613261</td>\n",
              "      <td>-0.638728</td>\n",
              "      <td>-0.374042</td>\n",
              "      <td>-0.816049</td>\n",
              "      <td>-1.023658</td>\n",
              "      <td>1.768151</td>\n",
              "      <td>-0.220795</td>\n",
              "      <td>2.257423</td>\n",
              "      <td>-0.676982</td>\n",
              "    </tr>\n",
              "    <tr>\n",
              "      <th>3</th>\n",
              "      <td>-0.793804</td>\n",
              "      <td>-0.619863</td>\n",
              "      <td>-0.638728</td>\n",
              "      <td>-0.680977</td>\n",
              "      <td>1.225417</td>\n",
              "      <td>0.976889</td>\n",
              "      <td>-0.565562</td>\n",
              "      <td>-0.410595</td>\n",
              "      <td>-0.636538</td>\n",
              "      <td>0.040392</td>\n",
              "    </tr>\n",
              "    <tr>\n",
              "      <th>4</th>\n",
              "      <td>-0.167952</td>\n",
              "      <td>1.613261</td>\n",
              "      <td>-0.638728</td>\n",
              "      <td>-0.374042</td>\n",
              "      <td>-0.816049</td>\n",
              "      <td>0.976889</td>\n",
              "      <td>1.768151</td>\n",
              "      <td>-0.373093</td>\n",
              "      <td>-1.601192</td>\n",
              "      <td>-1.394357</td>\n",
              "    </tr>\n",
              "  </tbody>\n",
              "</table>\n",
              "</div>"
            ],
            "text/plain": [
              "     Tenure  Complain  MaritalStatus_Single  DaySinceLastOrder  \\\n",
              "0  1.083752  1.613261             -0.638728           1.160632   \n",
              "1  0.207559 -0.619863             -0.638728          -1.294847   \n",
              "2 -1.044144  1.613261             -0.638728          -0.374042   \n",
              "3 -0.793804 -0.619863             -0.638728          -0.680977   \n",
              "4 -0.167952  1.613261             -0.638728          -0.374042   \n",
              "\n",
              "   PreferedOrderCat_Laptop & Accessory  MaritalStatus_Married  \\\n",
              "0                             1.225417               0.976889   \n",
              "1                             1.225417              -1.023658   \n",
              "2                            -0.816049              -1.023658   \n",
              "3                             1.225417               0.976889   \n",
              "4                            -0.816049               0.976889   \n",
              "\n",
              "   PreferedOrderCat_Mobile Phone  CashbackAmount  NumberOfDeviceRegistered  \\\n",
              "0                      -0.565562       -0.888099                 -0.636538   \n",
              "1                      -0.565562        0.884221                 -0.636538   \n",
              "2                       1.768151       -0.220795                  2.257423   \n",
              "3                      -0.565562       -0.410595                 -0.636538   \n",
              "4                       1.768151       -0.373093                 -1.601192   \n",
              "\n",
              "   SatisfactionScore  \n",
              "0           1.475141  \n",
              "1           0.040392  \n",
              "2          -0.676982  \n",
              "3           0.040392  \n",
              "4          -1.394357  "
            ]
          },
          "execution_count": 520,
          "metadata": {},
          "output_type": "execute_result"
        }
      ],
      "source": [
        "X_train = pd.DataFrame(X_train, columns=X.columns)\n",
        "X_test = pd.DataFrame(X_test, columns=X.columns)\n",
        "X_train.head()"
      ]
    },
    {
      "cell_type": "markdown",
      "id": "0ec2a1b5",
      "metadata": {
        "id": "0ec2a1b5"
      },
      "source": [
        "# Imbalance Dataset"
      ]
    },
    {
      "cell_type": "code",
      "execution_count": null,
      "id": "01f31691",
      "metadata": {
        "id": "01f31691",
        "outputId": "ec3e5fb4-9646-444a-bbee-623b0bd94fb9"
      },
      "outputs": [
        {
          "data": {
            "text/plain": [
              "0    2544\n",
              "1     493\n",
              "Name: Churn, dtype: int64"
            ]
          },
          "execution_count": 521,
          "metadata": {},
          "output_type": "execute_result"
        }
      ],
      "source": [
        "# Label proportion\n",
        "pd.Series(y_train).value_counts()"
      ]
    },
    {
      "cell_type": "markdown",
      "id": "a21856e3",
      "metadata": {
        "id": "a21856e3"
      },
      "source": [
        "## Undersampling"
      ]
    },
    {
      "cell_type": "code",
      "execution_count": null,
      "id": "4e9695e0",
      "metadata": {
        "id": "4e9695e0"
      },
      "outputs": [],
      "source": [
        "from imblearn.under_sampling import RandomUnderSampler\n",
        "undersample = RandomUnderSampler(sampling_strategy='majority')\n",
        "X_under, y_under = undersample.fit_resample(X_train, y_train)"
      ]
    },
    {
      "cell_type": "code",
      "execution_count": null,
      "id": "d0c7e338",
      "metadata": {
        "id": "d0c7e338",
        "outputId": "a562ed6f-05e8-4954-a1eb-95f1ff555cd8"
      },
      "outputs": [
        {
          "data": {
            "text/plain": [
              "0    493\n",
              "1    493\n",
              "Name: Churn, dtype: int64"
            ]
          },
          "execution_count": 523,
          "metadata": {},
          "output_type": "execute_result"
        }
      ],
      "source": [
        "pd.Series(y_under).value_counts()"
      ]
    },
    {
      "cell_type": "markdown",
      "id": "7c878425",
      "metadata": {
        "id": "7c878425"
      },
      "source": [
        "## Oversampling"
      ]
    },
    {
      "cell_type": "code",
      "execution_count": null,
      "id": "2cbb1f65",
      "metadata": {
        "id": "2cbb1f65"
      },
      "outputs": [],
      "source": [
        "from imblearn.over_sampling import SMOTE\n",
        "oversample = SMOTE()\n",
        "X_over, y_over = oversample.fit_resample(X_train, y_train)"
      ]
    },
    {
      "cell_type": "code",
      "execution_count": null,
      "id": "b0295db2",
      "metadata": {
        "id": "b0295db2",
        "outputId": "58411428-9d72-400e-81d4-aafb4cc117aa"
      },
      "outputs": [
        {
          "data": {
            "text/plain": [
              "0    2544\n",
              "1    2544\n",
              "Name: Churn, dtype: int64"
            ]
          },
          "execution_count": 525,
          "metadata": {},
          "output_type": "execute_result"
        }
      ],
      "source": [
        "pd.Series(y_over).value_counts()"
      ]
    },
    {
      "cell_type": "markdown",
      "id": "bfc72c5f",
      "metadata": {
        "id": "bfc72c5f"
      },
      "source": [
        "# Prediction (Modelling 1)"
      ]
    },
    {
      "cell_type": "code",
      "execution_count": null,
      "id": "d3fdacfb",
      "metadata": {
        "id": "d3fdacfb"
      },
      "outputs": [],
      "source": [
        "from  sklearn.metrics import accuracy_score, precision_score, recall_score, f1_score\n",
        "from  sklearn.metrics import roc_curve, auc"
      ]
    },
    {
      "cell_type": "code",
      "execution_count": null,
      "id": "3b600e69",
      "metadata": {
        "id": "3b600e69"
      },
      "outputs": [],
      "source": [
        "# Membuat fungsi\n",
        "def eval_classification(model, pred, xtrain, ytrain, xtest, ytest):\n",
        "    print(\"Accuracy (Test Set): %.4f\" % accuracy_score(ytest, pred))\n",
        "    print(\"Precision (Test Set): %.4f\" % precision_score(ytest, pred))\n",
        "    print(\"Recall (Test Set): %.4f\" % recall_score(ytest, pred))\n",
        "    print(\"F1-Score (Test Set): %.4f\" % f1_score(ytest, pred))\n",
        "    \n",
        "    fpr, tpr, thresholds = roc_curve(ytest, pred, pos_label=1) # pos_label: label yang kita anggap positive\n",
        "    print(\"AUC: %.2f\" % auc(fpr, tpr))\n",
        "\n",
        "def show_feature_importance(model):\n",
        "    feat_importances = pd.Series(model.feature_importances_, index=X.columns)\n",
        "    ax = feat_importances.nlargest(25).plot(kind='barh', figsize=(10, 8))\n",
        "    ax.invert_yaxis()\n",
        "\n",
        "    plt.xlabel('score')\n",
        "    plt.ylabel('feature')\n",
        "    plt.title('feature importance score')\n",
        "    \n",
        "def show_best_hyperparameter(model, hyperparameters):\n",
        "    for key, value in hyperparameters.items() :\n",
        "        print('Best '+key+':', model.get_params()[key])\n",
        "        \n",
        "def check_nullAccuracy(total_minLabel,total_maxLabel):\n",
        "    null_accuracy = (total_maxLabel/(total_minLabel+total_maxLabel))\n",
        "    print('Null accuracy score: {0:0.4f}'. format(null_accuracy))"
      ]
    },
    {
      "cell_type": "markdown",
      "id": "9a5e4aea",
      "metadata": {
        "id": "9a5e4aea"
      },
      "source": [
        "## Choose undersampling or oversampling"
      ]
    },
    {
      "cell_type": "code",
      "execution_count": null,
      "id": "da3e7e3b",
      "metadata": {
        "id": "da3e7e3b",
        "outputId": "4d27e264-ac1a-480a-829e-bed4245b11c5"
      },
      "outputs": [
        {
          "name": "stdout",
          "output_type": "stream",
          "text": [
            "Accuracy (Test Set): 0.7711\n",
            "Precision (Test Set): 0.4373\n",
            "Recall (Test Set): 0.8156\n",
            "F1-Score (Test Set): 0.5693\n",
            "AUC: 0.79\n"
          ]
        }
      ],
      "source": [
        "from sklearn.tree import DecisionTreeClassifier\n",
        "\n",
        "model_lr = DecisionTreeClassifier(random_state=0)\n",
        "model_lr.fit(X_under, y_under)\n",
        "\n",
        "lr_pred = model_lr.predict(X_test)\n",
        "\n",
        "eval_classification(model_lr,lr_pred,X_under, y_under, X_test, y_test)"
      ]
    },
    {
      "cell_type": "code",
      "execution_count": null,
      "id": "e10839de",
      "metadata": {
        "id": "e10839de",
        "outputId": "8ff4ff99-5ec7-444e-b893-65e7b5697d1d"
      },
      "outputs": [
        {
          "name": "stdout",
          "output_type": "stream",
          "text": [
            "Accuracy (Test Set): 0.8776\n",
            "Precision (Test Set): 0.6364\n",
            "Recall (Test Set): 0.7943\n",
            "F1-Score (Test Set): 0.7066\n",
            "AUC: 0.85\n"
          ]
        }
      ],
      "source": [
        "from sklearn.tree import DecisionTreeClassifier\n",
        "\n",
        "model_lr = DecisionTreeClassifier(random_state=0)\n",
        "model_lr.fit(X_over, y_over)\n",
        "\n",
        "lr_pred = model_lr.predict(X_test)\n",
        "\n",
        "eval_classification(model_lr,lr_pred,X_over, y_over, X_test, y_test)"
      ]
    },
    {
      "cell_type": "markdown",
      "id": "64c84eec",
      "metadata": {
        "id": "64c84eec"
      },
      "source": [
        "By looking at the Recall value which is very important for Churn Classification, undersampling data is selected. Then, undersampling data will be used"
      ]
    },
    {
      "cell_type": "markdown",
      "id": "ff4a7efb",
      "metadata": {
        "id": "ff4a7efb"
      },
      "source": [
        "## Choose the best model"
      ]
    },
    {
      "cell_type": "markdown",
      "id": "f728c847",
      "metadata": {
        "id": "f728c847"
      },
      "source": [
        "The model to be tested is a bagging and boosting model. There are random forest, adaboost, gradientboosting and XGBoost"
      ]
    },
    {
      "cell_type": "code",
      "execution_count": null,
      "id": "aa766c9c",
      "metadata": {
        "id": "aa766c9c",
        "outputId": "c6fe1606-200b-482d-ce32-75067453cb05"
      },
      "outputs": [
        {
          "name": "stdout",
          "output_type": "stream",
          "text": [
            "Accuracy (Test Set): 0.8461\n",
            "Precision (Test Set): 0.5550\n",
            "Recall (Test Set): 0.8582\n",
            "F1-Score (Test Set): 0.6741\n",
            "AUC: 0.85\n"
          ]
        }
      ],
      "source": [
        "# Random forest\n",
        "from sklearn.ensemble import RandomForestClassifier\n",
        "rf = RandomForestClassifier(random_state=42)\n",
        "rf.fit(X_under, y_under)\n",
        "\n",
        "y_pred = rf.predict(X_test)\n",
        "eval_classification(rf, y_pred,X_under, y_under, X_test, y_test)"
      ]
    },
    {
      "cell_type": "code",
      "execution_count": null,
      "id": "3bccf3f8",
      "metadata": {
        "id": "3bccf3f8",
        "outputId": "fd363758-553d-458a-ffa8-51ad763512d2"
      },
      "outputs": [
        {
          "name": "stdout",
          "output_type": "stream",
          "text": [
            "Accuracy (Test Set): 0.8303\n",
            "Precision (Test Set): 0.5263\n",
            "Recall (Test Set): 0.8511\n",
            "F1-Score (Test Set): 0.6504\n",
            "AUC: 0.84\n"
          ]
        }
      ],
      "source": [
        "# Gradient Boosting\n",
        "from sklearn.ensemble import GradientBoostingClassifier\n",
        "gb = GradientBoostingClassifier(n_estimators=200, learning_rate=0.1)\n",
        "gb.fit(X_under, y_under)\n",
        "\n",
        "y_pred = gb.predict(X_test)\n",
        "eval_classification(gb, y_pred,X_under, y_under, X_test, y_test)"
      ]
    },
    {
      "cell_type": "code",
      "execution_count": null,
      "id": "134bc520",
      "metadata": {
        "id": "134bc520",
        "outputId": "e8f9d6ab-942f-4290-a059-f6d7762965c8"
      },
      "outputs": [
        {
          "name": "stdout",
          "output_type": "stream",
          "text": [
            "Accuracy (Test Set): 0.8013\n",
            "Precision (Test Set): 0.4797\n",
            "Recall (Test Set): 0.8369\n",
            "F1-Score (Test Set): 0.6098\n",
            "AUC: 0.82\n"
          ]
        }
      ],
      "source": [
        "#  AdaBoost\n",
        "from sklearn.ensemble import AdaBoostClassifier\n",
        "ab = AdaBoostClassifier(n_estimators=200, learning_rate=0.1)\n",
        "ab.fit(X_under, y_under)\n",
        "\n",
        "y_pred = ab.predict(X_test)\n",
        "eval_classification(ab, y_pred,X_under, y_under, X_test, y_test)"
      ]
    },
    {
      "cell_type": "code",
      "execution_count": null,
      "id": "fbe9d527",
      "metadata": {
        "id": "fbe9d527",
        "outputId": "d0ccc9cd-bb75-4b44-8518-75ce64343de1"
      },
      "outputs": [
        {
          "name": "stdout",
          "output_type": "stream",
          "text": [
            "Accuracy (Test Set): 0.8329\n",
            "Precision (Test Set): 0.5297\n",
            "Recall (Test Set): 0.8865\n",
            "F1-Score (Test Set): 0.6631\n",
            "AUC: 0.85\n"
          ]
        }
      ],
      "source": [
        "#XGBoost\n",
        "from xgboost import XGBClassifier\n",
        "xg = XGBClassifier(random_state=42)\n",
        "xg.fit(X_under, y_under)\n",
        "\n",
        "y_pred = xg.predict(X_test)\n",
        "eval_classification(xg, y_pred,X_under, y_under, X_test, y_test)"
      ]
    },
    {
      "cell_type": "markdown",
      "id": "a3995b40",
      "metadata": {
        "id": "a3995b40"
      },
      "source": [
        "From the 4 models tested, it can be concluded that the XGBoost model is the best model because it produces the largest Recall and AUC values"
      ]
    },
    {
      "cell_type": "markdown",
      "id": "63c87bc3",
      "metadata": {
        "id": "63c87bc3"
      },
      "source": [
        "## Shows the most important features of the model"
      ]
    },
    {
      "cell_type": "code",
      "execution_count": null,
      "id": "70afe440",
      "metadata": {
        "id": "70afe440",
        "outputId": "161dffac-09a1-493f-832e-27b4c3e94f3c"
      },
      "outputs": [
        {
          "data": {
            "image/png": "[encoded data removed]",
            "text/plain": [
              "<Figure size 720x576 with 1 Axes>"
            ]
          },
          "metadata": {
            "needs_background": "light"
          },
          "output_type": "display_data"
        }
      ],
      "source": [
        "show_feature_importance(xg)"
      ]
    },
    {
      "cell_type": "markdown",
      "id": "54b581fb",
      "metadata": {
        "id": "54b581fb"
      },
      "source": [
        "The graph above shows the most decisive features in classifying whether a customer will leave the product/service (Churn) or not."
      ]
    },
    {
      "cell_type": "markdown",
      "id": "24824bd3",
      "metadata": {
        "id": "24824bd3"
      },
      "source": [
        "## Hyperparameter Tuning"
      ]
    },
    {
      "cell_type": "code",
      "execution_count": null,
      "id": "03761a1e",
      "metadata": {
        "id": "03761a1e",
        "outputId": "3b8d64c8-7c33-431a-b7f2-18eb36cb1ea8"
      },
      "outputs": [
        {
          "name": "stdout",
          "output_type": "stream",
          "text": [
            "Best max_depth: 110\n",
            "Best min_child_weight: 2\n",
            "Best gamma: 0.5\n",
            "Best tree_method: hist\n",
            "Best colsample_bytree: 1.0\n",
            "Best eta: 0.7777777777777778\n",
            "Best lambda: 0.2\n",
            "Best alpha: 0.1\n"
          ]
        }
      ],
      "source": [
        "from sklearn.model_selection import RandomizedSearchCV, GridSearchCV\n",
        "import numpy as np\n",
        "\n",
        "hyperparameters = {\n",
        "                    'max_depth' : [int(x) for x in np.linspace(10, 110, num = 11)],\n",
        "                    'min_child_weight' : [int(x) for x in np.linspace(1, 20, num = 11)],\n",
        "                    'gamma' : [float(x) for x in np.linspace(0, 1, num = 11)],\n",
        "                    'tree_method' : ['auto', 'exact', 'approx', 'hist'],\n",
        "\n",
        "                    'colsample_bytree' : [float(x) for x in np.linspace(0, 1, num = 11)],\n",
        "                    'eta' : [float(x) for x in np.linspace(0, 1, num = 100)],\n",
        "\n",
        "                    'lambda' : [float(x) for x in np.linspace(0, 1, num = 11)],\n",
        "                    'alpha' : [float(x) for x in np.linspace(0, 1, num = 11)]\n",
        "                    }\n",
        "\n",
        "# Init\n",
        "xg = XGBClassifier(random_state=42)\n",
        "xg_tuned = RandomizedSearchCV(xg, hyperparameters, cv=5, random_state=42, scoring='recall')\n",
        "xg_tuned.fit(X_under,y_under)\n",
        "y_pred=xg_tuned.predict(X_test)\n",
        "show_best_hyperparameter(xg_tuned.best_estimator_, hyperparameters)"
      ]
    },
    {
      "cell_type": "markdown",
      "id": "5be594f0",
      "metadata": {
        "id": "5be594f0"
      },
      "source": [
        "## Metrix"
      ]
    },
    {
      "cell_type": "code",
      "execution_count": null,
      "id": "6f1eb5b1",
      "metadata": {
        "id": "6f1eb5b1",
        "outputId": "b4962e60-bda3-4a78-a5cf-1e088f88b057"
      },
      "outputs": [
        {
          "name": "stdout",
          "output_type": "stream",
          "text": [
            "Confusion matrix\n",
            "\n",
            " [[495 124]\n",
            " [ 14 127]]\n",
            "\n",
            "True Positives(TP) =  495\n",
            "\n",
            "True Negatives(TN) =  127\n",
            "\n",
            "False Positives(FP) =  124\n",
            "\n",
            "False Negatives(FN) =  14\n"
          ]
        }
      ],
      "source": [
        "from sklearn.metrics import confusion_matrix\n",
        "\n",
        "cm = confusion_matrix(y_test, y_pred)\n",
        "\n",
        "print('Confusion matrix\\n\\n', cm)\n",
        "\n",
        "print('\\nTrue Positives(TP) = ', cm[0,0])\n",
        "\n",
        "print('\\nTrue Negatives(TN) = ', cm[1,1])\n",
        "\n",
        "print('\\nFalse Positives(FP) = ', cm[0,1])\n",
        "\n",
        "print('\\nFalse Negatives(FN) = ', cm[1,0])"
      ]
    },
    {
      "cell_type": "code",
      "execution_count": null,
      "id": "93de1775",
      "metadata": {
        "id": "93de1775",
        "outputId": "1538f975-784e-41de-ff17-bcc28418cdb4"
      },
      "outputs": [
        {
          "data": {
            "text/plain": [
              "<AxesSubplot:>"
            ]
          },
          "execution_count": 537,
          "metadata": {},
          "output_type": "execute_result"
        },
        {
          "data": {
            "image/png": "[encoded data removed]",
            "text/plain": [
              "<Figure size 504x1080 with 2 Axes>"
            ]
          },
          "metadata": {
            "needs_background": "light"
          },
          "output_type": "display_data"
        }
      ],
      "source": [
        "import seaborn as sns\n",
        "cm_matrix = pd.DataFrame(data=cm, columns=['Actual Positive:1', 'Actual Negative:0'], \n",
        "                                 index=['Predict Positive:1', 'Predict Negative:0'])\n",
        "\n",
        "sns.heatmap(cm_matrix, annot=True, fmt='d', cmap='YlGnBu')"
      ]
    },
    {
      "cell_type": "code",
      "execution_count": null,
      "id": "25a7c557",
      "metadata": {
        "id": "25a7c557",
        "outputId": "e5650874-32d0-4a7c-ace1-ae993a79ee77"
      },
      "outputs": [
        {
          "name": "stdout",
          "output_type": "stream",
          "text": [
            "              precision    recall  f1-score   support\n",
            "\n",
            "           0       0.97      0.80      0.88       619\n",
            "           1       0.51      0.90      0.65       141\n",
            "\n",
            "    accuracy                           0.82       760\n",
            "   macro avg       0.74      0.85      0.76       760\n",
            "weighted avg       0.89      0.82      0.84       760\n",
            "\n"
          ]
        }
      ],
      "source": [
        "from sklearn.metrics import classification_report\n",
        "\n",
        "print(classification_report(y_test, y_pred))"
      ]
    },
    {
      "cell_type": "code",
      "execution_count": null,
      "id": "d62edd25",
      "metadata": {
        "id": "d62edd25"
      },
      "outputs": [],
      "source": [
        "TP = cm[0,0]\n",
        "TN = cm[1,1]\n",
        "FP = cm[0,1]\n",
        "FN = cm[1,0]"
      ]
    },
    {
      "cell_type": "code",
      "execution_count": null,
      "id": "4f5c0338",
      "metadata": {
        "id": "4f5c0338",
        "outputId": "7231cb31-474c-4de4-e1f2-501872c01821"
      },
      "outputs": [
        {
          "name": "stdout",
          "output_type": "stream",
          "text": [
            "Classification accuracy : 0.8184\n"
          ]
        }
      ],
      "source": [
        "accuracy = (TP+TN) / float(TP+TN+FP+FN)\n",
        "\n",
        "print('Classification accuracy : {0:0.4f}'.format(accuracy))"
      ]
    },
    {
      "cell_type": "code",
      "execution_count": null,
      "id": "4083000c",
      "metadata": {
        "id": "4083000c",
        "outputId": "9a20711b-2467-4b82-b779-d07b2b3c7d0c"
      },
      "outputs": [
        {
          "name": "stdout",
          "output_type": "stream",
          "text": [
            "Precision : 0.7997\n"
          ]
        }
      ],
      "source": [
        "# print precision score\n",
        "\n",
        "precision = TP / float(TP + FP)\n",
        "\n",
        "\n",
        "print('Precision : {0:0.4f}'.format(precision))"
      ]
    },
    {
      "cell_type": "code",
      "execution_count": null,
      "id": "af4ce6d8",
      "metadata": {
        "id": "af4ce6d8",
        "outputId": "3226212f-a70c-43a2-df32-852f2609a0a6"
      },
      "outputs": [
        {
          "name": "stdout",
          "output_type": "stream",
          "text": [
            "Recall or Sensitivity or True Positive Rate : 0.9725\n"
          ]
        }
      ],
      "source": [
        "recall = TP / float(TP + FN)\n",
        "\n",
        "print('Recall or Sensitivity or True Positive Rate : {0:0.4f}'.format(recall))"
      ]
    },
    {
      "cell_type": "code",
      "execution_count": null,
      "id": "a810d2cc",
      "metadata": {
        "id": "a810d2cc",
        "outputId": "c37fd72c-43b8-4c88-b611-534774a85aa6"
      },
      "outputs": [
        {
          "name": "stdout",
          "output_type": "stream",
          "text": [
            "False Positive Rate : 0.4940\n"
          ]
        }
      ],
      "source": [
        "false_positive_rate = FP / float(FP + TN)\n",
        "\n",
        "\n",
        "print('False Positive Rate : {0:0.4f}'.format(false_positive_rate))"
      ]
    },
    {
      "cell_type": "code",
      "execution_count": null,
      "id": "ef714e68",
      "metadata": {
        "id": "ef714e68",
        "outputId": "c38e60b2-311f-4fef-f612-ab8064d79b58"
      },
      "outputs": [
        {
          "name": "stdout",
          "output_type": "stream",
          "text": [
            "Specificity : 0.5060\n"
          ]
        }
      ],
      "source": [
        "specificity = TN / (TN + FP)\n",
        "\n",
        "print('Specificity : {0:0.4f}'.format(specificity))"
      ]
    },
    {
      "cell_type": "markdown",
      "id": "81c0e15c",
      "metadata": {
        "id": "81c0e15c"
      },
      "source": [
        "## Test Underfitting or Overfitting"
      ]
    },
    {
      "cell_type": "code",
      "execution_count": null,
      "id": "ba90739d",
      "metadata": {
        "id": "ba90739d",
        "outputId": "84acab50-4a73-42fc-c83e-5c49d30e86b6"
      },
      "outputs": [
        {
          "name": "stdout",
          "output_type": "stream",
          "text": [
            "Training set score: 0.9980\n",
            "Test set score: 0.9007\n"
          ]
        }
      ],
      "source": [
        "print('Training set score: {:.4f}'.format(xg_tuned.score(X_under, y_under)))\n",
        "print('Test set score: {:.4f}'.format(xg_tuned.score(X_test, y_test)))"
      ]
    },
    {
      "cell_type": "markdown",
      "id": "65420fd6",
      "metadata": {
        "id": "65420fd6"
      },
      "source": [
        "The difference between the training set and the test set is < 0.1 so it can be concluded that the model does not experience underfitting or overfitting"
      ]
    },
    {
      "cell_type": "markdown",
      "id": "4a7ae2b8",
      "metadata": {
        "id": "4a7ae2b8"
      },
      "source": [
        "## Null Accuracy"
      ]
    },
    {
      "cell_type": "code",
      "execution_count": null,
      "id": "7462aadb",
      "metadata": {
        "id": "7462aadb",
        "outputId": "588940e1-1aeb-4128-c586-49a3447ae519"
      },
      "outputs": [
        {
          "data": {
            "text/plain": [
              "0    619\n",
              "1    141\n",
              "Name: Churn, dtype: int64"
            ]
          },
          "execution_count": 546,
          "metadata": {},
          "output_type": "execute_result"
        }
      ],
      "source": [
        "y_test.value_counts()"
      ]
    },
    {
      "cell_type": "code",
      "execution_count": null,
      "id": "d77d309a",
      "metadata": {
        "id": "d77d309a",
        "outputId": "e36990af-4750-44fe-ddb3-393213f9e8a9"
      },
      "outputs": [
        {
          "name": "stdout",
          "output_type": "stream",
          "text": [
            "Null accuracy score: 0.8145\n"
          ]
        }
      ],
      "source": [
        "check_nullAccuracy(141,619)"
      ]
    },
    {
      "cell_type": "markdown",
      "id": "5ac848cf",
      "metadata": {
        "id": "5ac848cf"
      },
      "source": [
        "The model can produce accuracy more than null accuracy so that the model created already meets null accuracy"
      ]
    },
    {
      "cell_type": "markdown",
      "id": "714f2d0c",
      "metadata": {
        "id": "714f2d0c"
      },
      "source": [
        "## Threshold"
      ]
    },
    {
      "cell_type": "code",
      "execution_count": null,
      "id": "f95dcbde",
      "metadata": {
        "id": "f95dcbde",
        "outputId": "09e5a81a-1a8f-469d-dd9f-cf05abe4e96f"
      },
      "outputs": [
        {
          "data": {
            "text/plain": [
              "array([[0.5898671 , 0.41013286],\n",
              "       [0.9830245 , 0.01697554],\n",
              "       [0.86252826, 0.13747175],\n",
              "       [0.99369675, 0.00630324],\n",
              "       [0.99523264, 0.00476737],\n",
              "       [0.00889802, 0.991102  ],\n",
              "       [0.17628008, 0.8237199 ],\n",
              "       [0.161026  , 0.838974  ],\n",
              "       [0.0053975 , 0.9946025 ],\n",
              "       [0.00841582, 0.9915842 ]], dtype=float32)"
            ]
          },
          "execution_count": 548,
          "metadata": {},
          "output_type": "execute_result"
        }
      ],
      "source": [
        "y_pred_prob = xg_tuned.predict_proba(X_test)[0:10]\n",
        "\n",
        "y_pred_prob"
      ]
    },
    {
      "cell_type": "code",
      "execution_count": null,
      "id": "13404cae",
      "metadata": {
        "id": "13404cae",
        "outputId": "2d4f6969-8bc4-4c45-f2ea-4aae7d778965"
      },
      "outputs": [
        {
          "data": {
            "text/html": [
              "<div>\n",
              "<style scoped>\n",
              "    .dataframe tbody tr th:only-of-type {\n",
              "        vertical-align: middle;\n",
              "    }\n",
              "\n",
              "    .dataframe tbody tr th {\n",
              "        vertical-align: top;\n",
              "    }\n",
              "\n",
              "    .dataframe thead th {\n",
              "        text-align: right;\n",
              "    }\n",
              "</style>\n",
              "<table border=\"1\" class=\"dataframe\">\n",
              "  <thead>\n",
              "    <tr style=\"text-align: right;\">\n",
              "      <th></th>\n",
              "      <th>Churn detected (1)</th>\n",
              "      <th>No Churn Detected (0)</th>\n",
              "    </tr>\n",
              "  </thead>\n",
              "  <tbody>\n",
              "    <tr>\n",
              "      <th>0</th>\n",
              "      <td>0.589867</td>\n",
              "      <td>0.410133</td>\n",
              "    </tr>\n",
              "    <tr>\n",
              "      <th>1</th>\n",
              "      <td>0.983024</td>\n",
              "      <td>0.016976</td>\n",
              "    </tr>\n",
              "    <tr>\n",
              "      <th>2</th>\n",
              "      <td>0.862528</td>\n",
              "      <td>0.137472</td>\n",
              "    </tr>\n",
              "    <tr>\n",
              "      <th>3</th>\n",
              "      <td>0.993697</td>\n",
              "      <td>0.006303</td>\n",
              "    </tr>\n",
              "    <tr>\n",
              "      <th>4</th>\n",
              "      <td>0.995233</td>\n",
              "      <td>0.004767</td>\n",
              "    </tr>\n",
              "    <tr>\n",
              "      <th>5</th>\n",
              "      <td>0.008898</td>\n",
              "      <td>0.991102</td>\n",
              "    </tr>\n",
              "    <tr>\n",
              "      <th>6</th>\n",
              "      <td>0.176280</td>\n",
              "      <td>0.823720</td>\n",
              "    </tr>\n",
              "    <tr>\n",
              "      <th>7</th>\n",
              "      <td>0.161026</td>\n",
              "      <td>0.838974</td>\n",
              "    </tr>\n",
              "    <tr>\n",
              "      <th>8</th>\n",
              "      <td>0.005397</td>\n",
              "      <td>0.994603</td>\n",
              "    </tr>\n",
              "    <tr>\n",
              "      <th>9</th>\n",
              "      <td>0.008416</td>\n",
              "      <td>0.991584</td>\n",
              "    </tr>\n",
              "  </tbody>\n",
              "</table>\n",
              "</div>"
            ],
            "text/plain": [
              "   Churn detected (1)  No Churn Detected (0)\n",
              "0            0.589867               0.410133\n",
              "1            0.983024               0.016976\n",
              "2            0.862528               0.137472\n",
              "3            0.993697               0.006303\n",
              "4            0.995233               0.004767\n",
              "5            0.008898               0.991102\n",
              "6            0.176280               0.823720\n",
              "7            0.161026               0.838974\n",
              "8            0.005397               0.994603\n",
              "9            0.008416               0.991584"
            ]
          },
          "execution_count": 549,
          "metadata": {},
          "output_type": "execute_result"
        }
      ],
      "source": [
        "# store the probabilities in dataframe\n",
        "\n",
        "y_pred_prob_df = pd.DataFrame(data=y_pred_prob, columns=['Churn detected (1)', 'No Churn Detected (0)'])\n",
        "\n",
        "y_pred_prob_df"
      ]
    },
    {
      "cell_type": "code",
      "execution_count": null,
      "id": "b9a64a3b",
      "metadata": {
        "id": "b9a64a3b"
      },
      "outputs": [],
      "source": [
        "# store the predicted probabilities for class 1 - Probability of Churn\n",
        "\n",
        "y_pred1 = rf.predict_proba(X_test)[:, 1]"
      ]
    },
    {
      "cell_type": "code",
      "execution_count": null,
      "id": "44637e8d",
      "metadata": {
        "id": "44637e8d",
        "outputId": "e9d5bf3f-aa14-4010-975c-180da770e71c"
      },
      "outputs": [
        {
          "data": {
            "text/plain": [
              "Text(0, 0.5, 'Frequency')"
            ]
          },
          "execution_count": 551,
          "metadata": {},
          "output_type": "execute_result"
        },
        {
          "data": {
            "image/png": "[encoded data removed]",
            "text/plain": [
              "<Figure size 504x1080 with 1 Axes>"
            ]
          },
          "metadata": {
            "needs_background": "light"
          },
          "output_type": "display_data"
        }
      ],
      "source": [
        "# plot histogram of predicted probabilities\n",
        "\n",
        "\n",
        "# adjust the font size \n",
        "plt.rcParams['font.size'] = 12\n",
        "\n",
        "\n",
        "# plot histogram with 10 bins\n",
        "plt.hist(y_pred1, bins = 10)\n",
        "\n",
        "\n",
        "# set the title of predicted probabilities\n",
        "plt.title('Histogram of predicted probabilities of Churn')\n",
        "\n",
        "\n",
        "# set the x-axis limit\n",
        "plt.xlim(0,1)\n",
        "\n",
        "\n",
        "# set the title\n",
        "plt.xlabel('Predicted probabilities of Churn')\n",
        "plt.ylabel('Frequency')"
      ]
    },
    {
      "cell_type": "code",
      "execution_count": null,
      "id": "dbe3f524",
      "metadata": {
        "id": "dbe3f524",
        "outputId": "161d33cb-1b7f-4886-a5f4-9d9cc0f531af"
      },
      "outputs": [
        {
          "name": "stdout",
          "output_type": "stream",
          "text": [
            "With 0.1 threshold the Confusion Matrix is  \n",
            "\n",
            " [[368 251]\n",
            " [  4 137]] \n",
            "\n",
            " with 505 correct predictions,  \n",
            "\n",
            " 251 Type I errors( False Positives),  \n",
            "\n",
            " 4 Type II errors( False Negatives),  \n",
            "\n",
            " Accuracy score:  0.6644736842105263 \n",
            "\n",
            " Precision:  0.5945072697899838 \n",
            "\n",
            " Recall or Sensitivity:  0.989247311827957 \n",
            "\n",
            " Specificity:  0.5945072697899838 \n",
            "\n",
            " ==================================================== \n",
            "\n",
            "\n",
            "With 0.2 threshold the Confusion Matrix is  \n",
            "\n",
            " [[423 196]\n",
            " [  8 133]] \n",
            "\n",
            " with 556 correct predictions,  \n",
            "\n",
            " 196 Type I errors( False Positives),  \n",
            "\n",
            " 8 Type II errors( False Negatives),  \n",
            "\n",
            " Accuracy score:  0.7315789473684211 \n",
            "\n",
            " Precision:  0.6833602584814217 \n",
            "\n",
            " Recall or Sensitivity:  0.9814385150812065 \n",
            "\n",
            " Specificity:  0.6833602584814217 \n",
            "\n",
            " ==================================================== \n",
            "\n",
            "\n",
            "With 0.3 threshold the Confusion Matrix is  \n",
            "\n",
            " [[453 166]\n",
            " [  9 132]] \n",
            "\n",
            " with 585 correct predictions,  \n",
            "\n",
            " 166 Type I errors( False Positives),  \n",
            "\n",
            " 9 Type II errors( False Negatives),  \n",
            "\n",
            " Accuracy score:  0.7697368421052632 \n",
            "\n",
            " Precision:  0.7318255250403877 \n",
            "\n",
            " Recall or Sensitivity:  0.9805194805194806 \n",
            "\n",
            " Specificity:  0.7318255250403877 \n",
            "\n",
            " ==================================================== \n",
            "\n",
            "\n",
            "With 0.4 threshold the Confusion Matrix is  \n",
            "\n",
            " [[478 141]\n",
            " [ 12 129]] \n",
            "\n",
            " with 607 correct predictions,  \n",
            "\n",
            " 141 Type I errors( False Positives),  \n",
            "\n",
            " 12 Type II errors( False Negatives),  \n",
            "\n",
            " Accuracy score:  0.7986842105263158 \n",
            "\n",
            " Precision:  0.7722132471728594 \n",
            "\n",
            " Recall or Sensitivity:  0.9755102040816327 \n",
            "\n",
            " Specificity:  0.7722132471728594 \n",
            "\n",
            " ==================================================== \n",
            "\n",
            "\n",
            "With 0.5 threshold the Confusion Matrix is  \n",
            "\n",
            " [[495 124]\n",
            " [ 14 127]] \n",
            "\n",
            " with 622 correct predictions,  \n",
            "\n",
            " 124 Type I errors( False Positives),  \n",
            "\n",
            " 14 Type II errors( False Negatives),  \n",
            "\n",
            " Accuracy score:  0.8184210526315789 \n",
            "\n",
            " Precision:  0.7996768982229402 \n",
            "\n",
            " Recall or Sensitivity:  0.9724950884086444 \n",
            "\n",
            " Specificity:  0.7996768982229402 \n",
            "\n",
            " ==================================================== \n",
            "\n",
            "\n",
            "With 0.6 threshold the Confusion Matrix is  \n",
            "\n",
            " [[514 105]\n",
            " [ 17 124]] \n",
            "\n",
            " with 638 correct predictions,  \n",
            "\n",
            " 105 Type I errors( False Positives),  \n",
            "\n",
            " 17 Type II errors( False Negatives),  \n",
            "\n",
            " Accuracy score:  0.8394736842105263 \n",
            "\n",
            " Precision:  0.8303715670436187 \n",
            "\n",
            " Recall or Sensitivity:  0.967984934086629 \n",
            "\n",
            " Specificity:  0.8303715670436187 \n",
            "\n",
            " ==================================================== \n",
            "\n",
            "\n",
            "With 0.7 threshold the Confusion Matrix is  \n",
            "\n",
            " [[531  88]\n",
            " [ 23 118]] \n",
            "\n",
            " with 649 correct predictions,  \n",
            "\n",
            " 88 Type I errors( False Positives),  \n",
            "\n",
            " 23 Type II errors( False Negatives),  \n",
            "\n",
            " Accuracy score:  0.8539473684210527 \n",
            "\n",
            " Precision:  0.8578352180936996 \n",
            "\n",
            " Recall or Sensitivity:  0.9584837545126353 \n",
            "\n",
            " Specificity:  0.8578352180936996 \n",
            "\n",
            " ==================================================== \n",
            "\n",
            "\n",
            "With 0.8 threshold the Confusion Matrix is  \n",
            "\n",
            " [[546  73]\n",
            " [ 34 107]] \n",
            "\n",
            " with 653 correct predictions,  \n",
            "\n",
            " 73 Type I errors( False Positives),  \n",
            "\n",
            " 34 Type II errors( False Negatives),  \n",
            "\n",
            " Accuracy score:  0.8592105263157894 \n",
            "\n",
            " Precision:  0.8820678513731826 \n",
            "\n",
            " Recall or Sensitivity:  0.9413793103448276 \n",
            "\n",
            " Specificity:  0.8820678513731826 \n",
            "\n",
            " ==================================================== \n",
            "\n",
            "\n",
            "With 0.9 threshold the Confusion Matrix is  \n",
            "\n",
            " [[572  47]\n",
            " [ 50  91]] \n",
            "\n",
            " with 663 correct predictions,  \n",
            "\n",
            " 47 Type I errors( False Positives),  \n",
            "\n",
            " 50 Type II errors( False Negatives),  \n",
            "\n",
            " Accuracy score:  0.8723684210526316 \n",
            "\n",
            " Precision:  0.9240710823909531 \n",
            "\n",
            " Recall or Sensitivity:  0.9196141479099679 \n",
            "\n",
            " Specificity:  0.9240710823909531 \n",
            "\n",
            " ==================================================== \n",
            "\n",
            "\n"
          ]
        }
      ],
      "source": [
        "from sklearn.preprocessing import binarize\n",
        "\n",
        "for i in range(1,10):\n",
        "    \n",
        "    cm1=0\n",
        "    \n",
        "    y_pred1 = xg_tuned.predict_proba(X_test)[:,1]\n",
        "    \n",
        "    y_pred1 = y_pred1.reshape(-1,1)\n",
        "\n",
        "    y_pred2 = binarize(y_pred1,  threshold=i/10)\n",
        "    \n",
        "    cm1 = confusion_matrix(y_test, y_pred2)\n",
        "        \n",
        "    print ('With',i/10,'threshold the Confusion Matrix is ','\\n\\n',cm1,'\\n\\n',\n",
        "           \n",
        "            'with',cm1[0,0]+cm1[1,1],'correct predictions, ', '\\n\\n', \n",
        "           \n",
        "            cm1[0,1],'Type I errors( False Positives), ','\\n\\n',\n",
        "           \n",
        "            cm1[1,0],'Type II errors( False Negatives), ','\\n\\n',\n",
        "           \n",
        "           'Accuracy score: ', (accuracy_score(y_test, y_pred2)), '\\n\\n',\n",
        "           \n",
        "           'Precision: ',cm1[0,0]/(float(cm1[0,0]+cm1[0,1])), '\\n\\n',\n",
        "           \n",
        "           'Recall or Sensitivity: ',cm1[0,0]/(float(cm1[0,0]+cm1[1,0])), '\\n\\n',\n",
        "           \n",
        "           'Specificity: ',cm1[0,0]/(float(cm1[0,0]+cm1[0,1])),'\\n\\n',\n",
        "          \n",
        "            '====================================================', '\\n\\n')"
      ]
    },
    {
      "cell_type": "code",
      "execution_count": null,
      "id": "469da63f",
      "metadata": {
        "id": "469da63f"
      },
      "outputs": [],
      "source": [
        "\n",
        "y_pred1 = xg_tuned.predict_proba(X_test)[:,1]\n",
        "\n",
        "y_pred1 = y_pred1.reshape(-1,1)\n",
        "\n",
        "y_pred2 = binarize(y_pred1, threshold= 0.6)"
      ]
    },
    {
      "cell_type": "code",
      "execution_count": null,
      "id": "561aa3da",
      "metadata": {
        "id": "561aa3da",
        "outputId": "64d59781-2ce1-469e-c9e5-acf37e26122c"
      },
      "outputs": [
        {
          "data": {
            "text/plain": [
              "array([[0.],\n",
              "       [0.],\n",
              "       [0.],\n",
              "       [0.],\n",
              "       [0.],\n",
              "       [1.],\n",
              "       [1.],\n",
              "       [1.],\n",
              "       [1.],\n",
              "       [1.]], dtype=float32)"
            ]
          },
          "execution_count": 554,
          "metadata": {},
          "output_type": "execute_result"
        }
      ],
      "source": [
        "y_pred2[0:10]"
      ]
    },
    {
      "cell_type": "markdown",
      "id": "19d93a6c",
      "metadata": {
        "id": "19d93a6c"
      },
      "source": [
        "The threshold of 0.6 is taken because it produces a very good evaluation value for accuracy, precision, recall and specificity"
      ]
    },
    {
      "cell_type": "markdown",
      "id": "24220400",
      "metadata": {
        "id": "24220400"
      },
      "source": [
        "## ROC AUC"
      ]
    },
    {
      "cell_type": "code",
      "execution_count": null,
      "id": "ac1524cc",
      "metadata": {
        "id": "ac1524cc",
        "outputId": "ab68eba8-1791-47ca-efee-b8f1c78f1251"
      },
      "outputs": [
        {
          "name": "stdout",
          "output_type": "stream",
          "text": [
            "ROC AUC : 0.8549\n"
          ]
        }
      ],
      "source": [
        "\n",
        "from sklearn.metrics import roc_auc_score\n",
        "\n",
        "ROC_AUC = roc_auc_score(y_test, y_pred2)\n",
        "\n",
        "print('ROC AUC : {:.4f}'.format(ROC_AUC))"
      ]
    },
    {
      "cell_type": "markdown",
      "id": "58a58c4a",
      "metadata": {
        "id": "58a58c4a"
      },
      "source": [
        "ROC AUC model > 0.8 so the model is very good at differentiating between 2 classes"
      ]
    },
    {
      "cell_type": "markdown",
      "id": "9c12329f",
      "metadata": {
        "id": "9c12329f"
      },
      "source": [
        "# Building Model Conclusion"
      ]
    },
    {
      "cell_type": "markdown",
      "id": "f4880a6a",
      "metadata": {
        "id": "f4880a6a"
      },
      "source": [
        "After doing several processes, the best models, parameters and thresholds are obtained to detect whether the customer will leave the product/service (Churn) or not, namely:\n",
        "* Model = XGBoostclassifier(random_state=42)\n",
        "* Parameters =\n",
        "     * Best max_depth: 20\n",
        "     * Best min_child_weight: 6\n",
        "     * Best gamma: 0.8\n",
        "     * Best tree_method: approx\n",
        "     * Best colsample_bytree: 0.9\n",
        "     * Best eta: 0.595959595959596\n",
        "     * Best lambda: 0.1\n",
        "     * Best alpha: 0.30000000000000004\n",
        "* Threshold = 0.6\n",
        "\n",
        "With the best evaluation value:\n",
        "* Accuracy = 87%\n",
        "* Precision = 87%\n",
        "* Recall/Sensitivity/TPR = 96%\n",
        "* Specificity = 86%\n",
        "* ROC-AUC = 86%\n",
        "* No Overfitting\n",
        "* Accuracy value exceeds null accuracy, which is > 81%\n",
        "\n",
        "Additional insight is obtained that there are features that are most decisive in classifying whether a customer will leave a product/service (Churn) or not. The graphs and information have been shown in the cell above"
      ]
    },
    {
      "cell_type": "code",
      "execution_count": null,
      "id": "c0d70351",
      "metadata": {
        "id": "c0d70351"
      },
      "outputs": [],
      "source": [
        ""
      ]
    }
  ],
  "metadata": {
    "kernelspec": {
      "display_name": "Python 3 (ipykernel)",
      "language": "python",
      "name": "python3"
    },
    "language_info": {
      "codemirror_mode": {
        "name": "ipython",
        "version": 3
      },
      "file_extension": ".py",
      "mimetype": "text/x-python",
      "name": "python",
      "nbconvert_exporter": "python",
      "pygments_lexer": "ipython3",
      "version": "3.8.8"
    },
    "colab": {
      "name": "Final_Project_1-Customer_Churn_Data_Analysis_of_E-Commerce.ipynb",
      "provenance": []
    }
  },
  "nbformat": 4,
  "nbformat_minor": 5
}